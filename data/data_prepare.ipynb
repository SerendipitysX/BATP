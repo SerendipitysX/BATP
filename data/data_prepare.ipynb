{
 "cells": [
  {
   "cell_type": "code",
   "execution_count": 1,
   "metadata": {
    "collapsed": true
   },
   "outputs": [],
   "source": [
    "import pandas as pd\n",
    "import numpy as np\n",
    "from sklearn.utils import shuffle\n",
    "import torch\n",
    "import numpy as np\n",
    "import matplotlib.pyplot as plt\n",
    "import torch.nn.functional as F"
   ]
  },
  {
   "cell_type": "code",
   "execution_count": 2,
   "outputs": [
    {
     "data": {
      "text/plain": "        station_order  global_order  timestamp route_info route_id  type  date\n950                 1             1    22405.0    1/00740    00740     1     1\n951                 2             1    22556.0    1/00740    00740     1     1\n952                 3             1    22622.0    1/00740    00740     1     1\n953                 4             1    22707.0    1/00740    00740     1     1\n954                 5             1    22787.0    1/00740    00740     1     1\n...               ...           ...        ...        ...      ...   ...   ...\n356065             26           130    71193.0    2/00740    00740     2    30\n356066             27           130    71456.0    2/00740    00740     2    30\n356067             28           130    71677.0    2/00740    00740     2    30\n356068             29           130    72038.0    2/00740    00740     2    30\n356069             30           130    72077.0    2/00740    00740     2    30\n\n[436680 rows x 7 columns]",
      "text/html": "<div>\n<style scoped>\n    .dataframe tbody tr th:only-of-type {\n        vertical-align: middle;\n    }\n\n    .dataframe tbody tr th {\n        vertical-align: top;\n    }\n\n    .dataframe thead th {\n        text-align: right;\n    }\n</style>\n<table border=\"1\" class=\"dataframe\">\n  <thead>\n    <tr style=\"text-align: right;\">\n      <th></th>\n      <th>station_order</th>\n      <th>global_order</th>\n      <th>timestamp</th>\n      <th>route_info</th>\n      <th>route_id</th>\n      <th>type</th>\n      <th>date</th>\n    </tr>\n  </thead>\n  <tbody>\n    <tr>\n      <th>950</th>\n      <td>1</td>\n      <td>1</td>\n      <td>22405.0</td>\n      <td>1/00740</td>\n      <td>00740</td>\n      <td>1</td>\n      <td>1</td>\n    </tr>\n    <tr>\n      <th>951</th>\n      <td>2</td>\n      <td>1</td>\n      <td>22556.0</td>\n      <td>1/00740</td>\n      <td>00740</td>\n      <td>1</td>\n      <td>1</td>\n    </tr>\n    <tr>\n      <th>952</th>\n      <td>3</td>\n      <td>1</td>\n      <td>22622.0</td>\n      <td>1/00740</td>\n      <td>00740</td>\n      <td>1</td>\n      <td>1</td>\n    </tr>\n    <tr>\n      <th>953</th>\n      <td>4</td>\n      <td>1</td>\n      <td>22707.0</td>\n      <td>1/00740</td>\n      <td>00740</td>\n      <td>1</td>\n      <td>1</td>\n    </tr>\n    <tr>\n      <th>954</th>\n      <td>5</td>\n      <td>1</td>\n      <td>22787.0</td>\n      <td>1/00740</td>\n      <td>00740</td>\n      <td>1</td>\n      <td>1</td>\n    </tr>\n    <tr>\n      <th>...</th>\n      <td>...</td>\n      <td>...</td>\n      <td>...</td>\n      <td>...</td>\n      <td>...</td>\n      <td>...</td>\n      <td>...</td>\n    </tr>\n    <tr>\n      <th>356065</th>\n      <td>26</td>\n      <td>130</td>\n      <td>71193.0</td>\n      <td>2/00740</td>\n      <td>00740</td>\n      <td>2</td>\n      <td>30</td>\n    </tr>\n    <tr>\n      <th>356066</th>\n      <td>27</td>\n      <td>130</td>\n      <td>71456.0</td>\n      <td>2/00740</td>\n      <td>00740</td>\n      <td>2</td>\n      <td>30</td>\n    </tr>\n    <tr>\n      <th>356067</th>\n      <td>28</td>\n      <td>130</td>\n      <td>71677.0</td>\n      <td>2/00740</td>\n      <td>00740</td>\n      <td>2</td>\n      <td>30</td>\n    </tr>\n    <tr>\n      <th>356068</th>\n      <td>29</td>\n      <td>130</td>\n      <td>72038.0</td>\n      <td>2/00740</td>\n      <td>00740</td>\n      <td>2</td>\n      <td>30</td>\n    </tr>\n    <tr>\n      <th>356069</th>\n      <td>30</td>\n      <td>130</td>\n      <td>72077.0</td>\n      <td>2/00740</td>\n      <td>00740</td>\n      <td>2</td>\n      <td>30</td>\n    </tr>\n  </tbody>\n</table>\n<p>436680 rows × 7 columns</p>\n</div>"
     },
     "execution_count": 2,
     "metadata": {},
     "output_type": "execute_result"
    }
   ],
   "source": [
    "data = pd.read_csv('D:/A-bus/bus_pytorch/data/data_toyset.csv')\n",
    "data = data.sort_values(by=['global_order','date'])\n",
    "data"
   ],
   "metadata": {
    "collapsed": false,
    "pycharm": {
     "name": "#%%\n"
    }
   }
  },
  {
   "cell_type": "code",
   "execution_count": 3,
   "outputs": [
    {
     "data": {
      "text/plain": "     global_order route_info  \\\n0              77    1/00740   \n1              52    1/00740   \n2              18    1/00740   \n3              50    1/00740   \n4              29    1/00740   \n..            ...        ...   \n105            27    1/00740   \n106             8    1/00740   \n107            72    1/00740   \n108            12    1/00740   \n109            41    1/00740   \n\n                                             timestamp  \n0    [46895.0, 47458.0, 47517.0, 47573.0, 47650.0, ...  \n1    [37664.0, 38095.0, 38176.0, 38244.0, 38340.0, ...  \n2    [26834.0, 26974.0, 27062.0, 27103.0, 27555.0, ...  \n3    [36885.0, 37357.0, 37425.0, 37484.0, 37579.0, ...  \n4    [29573.0, 29703.0, 30070.0, 30294.0, 30466.0, ...  \n..                                                 ...  \n105  [29093.0, 29235.0, 29383.0, 29531.0, 29887.0, ...  \n106  [24419.0, 24545.0, 24614.0, 24666.0, 24778.0, ...  \n107  [45293.0, 45808.0, 45870.0, 45920.0, 45995.0, ...  \n108  [25244.0, 25410.0, 25581.0, 25631.0, 25723.0, ...  \n109  [32359.0, 33415.0, 33480.0, 33530.0, 33626.0, ...  \n\n[110 rows x 3 columns]",
      "text/html": "<div>\n<style scoped>\n    .dataframe tbody tr th:only-of-type {\n        vertical-align: middle;\n    }\n\n    .dataframe tbody tr th {\n        vertical-align: top;\n    }\n\n    .dataframe thead th {\n        text-align: right;\n    }\n</style>\n<table border=\"1\" class=\"dataframe\">\n  <thead>\n    <tr style=\"text-align: right;\">\n      <th></th>\n      <th>global_order</th>\n      <th>route_info</th>\n      <th>timestamp</th>\n    </tr>\n  </thead>\n  <tbody>\n    <tr>\n      <th>0</th>\n      <td>77</td>\n      <td>1/00740</td>\n      <td>[46895.0, 47458.0, 47517.0, 47573.0, 47650.0, ...</td>\n    </tr>\n    <tr>\n      <th>1</th>\n      <td>52</td>\n      <td>1/00740</td>\n      <td>[37664.0, 38095.0, 38176.0, 38244.0, 38340.0, ...</td>\n    </tr>\n    <tr>\n      <th>2</th>\n      <td>18</td>\n      <td>1/00740</td>\n      <td>[26834.0, 26974.0, 27062.0, 27103.0, 27555.0, ...</td>\n    </tr>\n    <tr>\n      <th>3</th>\n      <td>50</td>\n      <td>1/00740</td>\n      <td>[36885.0, 37357.0, 37425.0, 37484.0, 37579.0, ...</td>\n    </tr>\n    <tr>\n      <th>4</th>\n      <td>29</td>\n      <td>1/00740</td>\n      <td>[29573.0, 29703.0, 30070.0, 30294.0, 30466.0, ...</td>\n    </tr>\n    <tr>\n      <th>...</th>\n      <td>...</td>\n      <td>...</td>\n      <td>...</td>\n    </tr>\n    <tr>\n      <th>105</th>\n      <td>27</td>\n      <td>1/00740</td>\n      <td>[29093.0, 29235.0, 29383.0, 29531.0, 29887.0, ...</td>\n    </tr>\n    <tr>\n      <th>106</th>\n      <td>8</td>\n      <td>1/00740</td>\n      <td>[24419.0, 24545.0, 24614.0, 24666.0, 24778.0, ...</td>\n    </tr>\n    <tr>\n      <th>107</th>\n      <td>72</td>\n      <td>1/00740</td>\n      <td>[45293.0, 45808.0, 45870.0, 45920.0, 45995.0, ...</td>\n    </tr>\n    <tr>\n      <th>108</th>\n      <td>12</td>\n      <td>1/00740</td>\n      <td>[25244.0, 25410.0, 25581.0, 25631.0, 25723.0, ...</td>\n    </tr>\n    <tr>\n      <th>109</th>\n      <td>41</td>\n      <td>1/00740</td>\n      <td>[32359.0, 33415.0, 33480.0, 33530.0, 33626.0, ...</td>\n    </tr>\n  </tbody>\n</table>\n<p>110 rows × 3 columns</p>\n</div>"
     },
     "execution_count": 3,
     "metadata": {},
     "output_type": "execute_result"
    }
   ],
   "source": [
    "### shuffle index of origin data, len=434\n",
    "data = data.groupby(['global_order','route_info'],as_index=False)['timestamp'].agg({'timestamp': lambda x:x.tolist()})\n",
    "data = data.loc[data.route_info=='1/00740']\n",
    "data = shuffle(data)\n",
    "data = data.reset_index(drop=True)\n",
    "data"
   ],
   "metadata": {
    "collapsed": false,
    "pycharm": {
     "name": "#%%\n"
    }
   }
  },
  {
   "cell_type": "code",
   "execution_count": 4,
   "outputs": [],
   "source": [
    "###  train:344   val:86+3   test:1 bz=16\n",
    "###  train:90   val:15   test:5 bz=15\n",
    "saveTrain = 'D:/A-bus/bus_pytorch/data/dataset/partial-prediction/train.txt'\n",
    "data_train = data.loc[:90,'timestamp'].reset_index(drop=True)\n",
    "saveFile = open(saveTrain,'a')\n",
    "for i in range(len(data_train)):\n",
    "    lineToWrite = data_train[i]\n",
    "    saveFile.write(f\"{lineToWrite}\\n\")\n",
    "saveFile.close()\n",
    "\n",
    "saveVal = 'D:/A-bus/bus_pytorch/data/dataset/partial-prediction/val.txt'\n",
    "data_val = data.loc[90:105,'timestamp'].reset_index(drop=True)\n",
    "saveFile = open(saveVal,'a')\n",
    "for i in range(len(data_val)):\n",
    "    lineToWrite = data_val[i]\n",
    "    saveFile.write(f\"{lineToWrite}\\n\")\n",
    "saveFile.close()\n",
    "\n",
    "saveTest = 'D:/A-bus/bus_pytorch/data/dataset/partial-prediction/test.txt'\n",
    "data_test = data.loc[105:,'timestamp'].reset_index(drop=True)\n",
    "saveFile = open(saveTest,'a')\n",
    "for i in range(len(data_test)):\n",
    "    lineToWrite = data_test[i]\n",
    "    saveFile.write(f\"{lineToWrite}\\n\")\n",
    "saveFile.close()"
   ],
   "metadata": {
    "collapsed": false,
    "pycharm": {
     "name": "#%%\n"
    }
   }
  },
  {
   "cell_type": "code",
   "execution_count": 73,
   "outputs": [],
   "source": [],
   "metadata": {
    "collapsed": false,
    "pycharm": {
     "name": "#%%\n"
    }
   }
  },
  {
   "cell_type": "code",
   "execution_count": 90,
   "outputs": [
    {
     "data": {
      "text/plain": "      trip_num                                          timestamp\n0            1  [0.0, 151.0, 217.0, 302.0, 382.0, 648.0, 754.0...\n1            2  [0.0, 133.0, 204.0, 293.0, 383.0, 733.0, 861.0...\n2            3  [0.0, 184.0, 249.0, 318.0, 402.0, 665.0, 778.0...\n3            4  [0.0, 180.0, 246.0, 320.0, 406.0, 686.0, 812.0...\n4            5  [0.0, 133.0, 203.0, 269.0, 352.0, 656.0, 792.0...\n...        ...                                                ...\n3295      3296  [0.0, 487.0, 573.0, 635.0, 711.0, 907.0, 1104....\n3296      3297  [0.0, 537.0, 625.0, 689.0, 795.0, 1097.0, 1200...\n3297      3298  [0.0, 295.0, 374.0, 439.0, 534.0, 902.0, 1037....\n3298      3299  [0.0, 211.0, 310.0, 413.0, 479.0, 736.0, 837.0...\n3299      3300  [0.0, 283.0, 357.0, 442.0, 584.0, 854.0, 983.0...\n\n[3300 rows x 2 columns]",
      "text/html": "<div>\n<style scoped>\n    .dataframe tbody tr th:only-of-type {\n        vertical-align: middle;\n    }\n\n    .dataframe tbody tr th {\n        vertical-align: top;\n    }\n\n    .dataframe thead th {\n        text-align: right;\n    }\n</style>\n<table border=\"1\" class=\"dataframe\">\n  <thead>\n    <tr style=\"text-align: right;\">\n      <th></th>\n      <th>trip_num</th>\n      <th>timestamp</th>\n    </tr>\n  </thead>\n  <tbody>\n    <tr>\n      <th>0</th>\n      <td>1</td>\n      <td>[0.0, 151.0, 217.0, 302.0, 382.0, 648.0, 754.0...</td>\n    </tr>\n    <tr>\n      <th>1</th>\n      <td>2</td>\n      <td>[0.0, 133.0, 204.0, 293.0, 383.0, 733.0, 861.0...</td>\n    </tr>\n    <tr>\n      <th>2</th>\n      <td>3</td>\n      <td>[0.0, 184.0, 249.0, 318.0, 402.0, 665.0, 778.0...</td>\n    </tr>\n    <tr>\n      <th>3</th>\n      <td>4</td>\n      <td>[0.0, 180.0, 246.0, 320.0, 406.0, 686.0, 812.0...</td>\n    </tr>\n    <tr>\n      <th>4</th>\n      <td>5</td>\n      <td>[0.0, 133.0, 203.0, 269.0, 352.0, 656.0, 792.0...</td>\n    </tr>\n    <tr>\n      <th>...</th>\n      <td>...</td>\n      <td>...</td>\n    </tr>\n    <tr>\n      <th>3295</th>\n      <td>3296</td>\n      <td>[0.0, 487.0, 573.0, 635.0, 711.0, 907.0, 1104....</td>\n    </tr>\n    <tr>\n      <th>3296</th>\n      <td>3297</td>\n      <td>[0.0, 537.0, 625.0, 689.0, 795.0, 1097.0, 1200...</td>\n    </tr>\n    <tr>\n      <th>3297</th>\n      <td>3298</td>\n      <td>[0.0, 295.0, 374.0, 439.0, 534.0, 902.0, 1037....</td>\n    </tr>\n    <tr>\n      <th>3298</th>\n      <td>3299</td>\n      <td>[0.0, 211.0, 310.0, 413.0, 479.0, 736.0, 837.0...</td>\n    </tr>\n    <tr>\n      <th>3299</th>\n      <td>3300</td>\n      <td>[0.0, 283.0, 357.0, 442.0, 584.0, 854.0, 983.0...</td>\n    </tr>\n  </tbody>\n</table>\n<p>3300 rows × 2 columns</p>\n</div>"
     },
     "execution_count": 90,
     "metadata": {},
     "output_type": "execute_result"
    }
   ],
   "source": [
    "##### make KNN-dataset\n",
    "##### time begins with 0\n",
    "##### add lat and lon, helping to interpolate\n",
    "\n",
    "data_ = data.copy()\n",
    "data_ = data_.loc[data_.route_info=='1/00740',:]\n",
    "data_ = data_.reset_index(drop=True)\n",
    "# ### add trip_num, helping to group same trip\n",
    "station_diff = np.where(np.diff(data_['station_order'])==-37)[0]+1\n",
    "a = np.array([i+1 for i in range(len(station_diff)+1)])\n",
    "data_['trip_num'] = np.repeat(a,38)\n",
    "# ### make time of trip is relative to the first station\n",
    "data_ = data_.groupby(['trip_num'],as_index=False)['timestamp'].agg({'timestamp': lambda x:x.tolist()})\n",
    "data_.timestamp = data_.timestamp.apply(lambda x: [i-x[0] for i in x])\n",
    "data_"
   ],
   "metadata": {
    "collapsed": false,
    "pycharm": {
     "name": "#%%\n"
    }
   }
  },
  {
   "cell_type": "code",
   "execution_count": 120,
   "outputs": [
    {
     "data": {
      "text/plain": "array([  38,   58,   86,  133,  422,  500,  575,  631,  687,  719,  747,\n        771,  917,  963, 1032, 1070, 1127, 1159, 1195, 1257, 1301, 1352,\n       1485, 1612, 1744, 1799, 1834, 1872, 1913, 1947, 2011, 2033, 2069,\n       2110, 2188, 2202, 2209])"
     },
     "execution_count": 120,
     "metadata": {},
     "output_type": "execute_result"
    }
   ],
   "source": [
    "### interpolate 10m\n",
    "l = [380,\n",
    " 200,\n",
    " 280,\n",
    " 470,\n",
    " 2890,\n",
    " 780,\n",
    " 750,\n",
    " 560,\n",
    " 560,\n",
    " 320,\n",
    " 280,\n",
    " 240,\n",
    " 1460,\n",
    " 460,\n",
    " 690,\n",
    " 380,\n",
    " 570,\n",
    " 320,\n",
    " 360,\n",
    " 620,\n",
    " 440,\n",
    " 510,\n",
    " 1330,\n",
    " 1270,\n",
    " 1320,\n",
    " 550,\n",
    " 350,\n",
    " 380,\n",
    " 410,\n",
    " 340,\n",
    " 640,\n",
    " 220,\n",
    " 360,\n",
    " 410,\n",
    " 780,\n",
    " 140,\n",
    " 70]\n",
    "l = [380,\n",
    " 200,\n",
    " 280,\n",
    " 470,\n",
    " 2890,\n",
    " 780,\n",
    " 750,\n",
    " 560,\n",
    " 560,\n",
    " 320,\n",
    " 280,\n",
    " 240,\n",
    " 1460,\n",
    " 460,\n",
    " 690,\n",
    " 380,\n",
    " 570,\n",
    " 320,\n",
    " 360,\n",
    " 620,\n",
    " 440,\n",
    " 510,\n",
    " 1330,\n",
    " 1270,\n",
    " 1320,\n",
    " 550,\n",
    " 350,\n",
    " 380,\n",
    " 410,\n",
    " 340,\n",
    " 640,\n",
    " 220,\n",
    " 360,\n",
    " 410,\n",
    " 780,\n",
    " 140,\n",
    " 70]\n",
    "l = [int(i/10) for i in l]\n",
    "l = np.cumsum(l)   # test: l[2:]\n",
    "time = data_.timestamp[0]\n",
    "l"
   ],
   "metadata": {
    "collapsed": false,
    "pycharm": {
     "name": "#%%\n"
    }
   }
  },
  {
   "cell_type": "code",
   "execution_count": 128,
   "outputs": [],
   "source": [
    "def func(time):\n",
    " time_array = np.linspace(time[0],time[1],5)\n",
    " distance_array = np.linspace(0,l[0],5)\n",
    " for i in range(1,len(l)):\n",
    "   index = np.linspace(time[i],time[i+1],5)\n",
    "   time_array = np.concatenate((time_array,index[1:]))\n",
    "   index = np.linspace(l[i-1],l[i],5)\n",
    "   distance_array = np.concatenate((distance_array,index[1:]))\n",
    " coord = []\n",
    " for a, b in zip(distance_array,time_array):\n",
    "     coord.append( [ a, b ] )\n",
    " return coord\n",
    "\n",
    "# time_array = np.linspace(time[0],time[1],5)\n",
    "# distance_array = np.linspace(0,l[0],5)\n",
    "# time_array, distance_array\n",
    "# for i in range(1,len(l)):\n",
    "#   index = np.linspace(time[i],time[i+1],5)\n",
    "#   time_array = np.concatenate((time_array,index[1:]))\n",
    "#   index = np.linspace(l[i-1],l[i],5)\n",
    "#   distance_array = np.concatenate((distance_array,index[1:]))\n",
    "# coord = []\n",
    "# for a, b in zip(distance_array,time_array):\n",
    "#     coord.append( [ a, b ] )\n",
    "# [coord[i] for i in range(0,150) if i%4==0]  # 每个站点之间插3个点"
   ],
   "metadata": {
    "collapsed": false,
    "pycharm": {
     "name": "#%%\n"
    }
   }
  },
  {
   "cell_type": "code",
   "execution_count": 129,
   "outputs": [],
   "source": [
    "data_['coord'] = data_['timestamp'].apply(lambda x: func(x))"
   ],
   "metadata": {
    "collapsed": false,
    "pycharm": {
     "name": "#%%\n"
    }
   }
  },
  {
   "cell_type": "code",
   "execution_count": 131,
   "outputs": [],
   "source": [
    "###'1/00740'  totoal:3300\n",
    "saveTrain = 'D:/A-bus/bus_pytorch/data/dataset/knn-dataset/train.csv'\n",
    "data_train = data_['coord'].reset_index(drop=True)\n",
    "pd.DataFrame(data_train).to_csv(saveTrain,index=False)"
   ],
   "metadata": {
    "collapsed": false,
    "pycharm": {
     "name": "#%%\n"
    }
   }
  },
  {
   "cell_type": "code",
   "execution_count": 81,
   "outputs": [
    {
     "ename": "TypeError",
     "evalue": "the JSON object must be str, bytes or bytearray, not list",
     "output_type": "error",
     "traceback": [
      "\u001B[1;31m---------------------------------------------------------------------------\u001B[0m",
      "\u001B[1;31mTypeError\u001B[0m                                 Traceback (most recent call last)",
      "Input \u001B[1;32mIn [81]\u001B[0m, in \u001B[0;36m<cell line: 5>\u001B[1;34m()\u001B[0m\n\u001B[0;32m      3\u001B[0m \u001B[38;5;28;01mwith\u001B[39;00m \u001B[38;5;28mopen\u001B[39m(filename, \u001B[38;5;124m'\u001B[39m\u001B[38;5;124mr\u001B[39m\u001B[38;5;124m'\u001B[39m) \u001B[38;5;28;01mas\u001B[39;00m f:\n\u001B[0;32m      4\u001B[0m     data \u001B[38;5;241m=\u001B[39m f\u001B[38;5;241m.\u001B[39mreadlines()\n\u001B[1;32m----> 5\u001B[0m np\u001B[38;5;241m.\u001B[39marray(\u001B[43mjson\u001B[49m\u001B[38;5;241;43m.\u001B[39;49m\u001B[43mloads\u001B[49m\u001B[43m(\u001B[49m\u001B[43mdata\u001B[49m\u001B[43m)\u001B[49m)\n",
      "File \u001B[1;32mF:\\Anaconda\\envs\\pytorch\\lib\\json\\__init__.py:341\u001B[0m, in \u001B[0;36mloads\u001B[1;34m(s, cls, object_hook, parse_float, parse_int, parse_constant, object_pairs_hook, **kw)\u001B[0m\n\u001B[0;32m    339\u001B[0m \u001B[38;5;28;01melse\u001B[39;00m:\n\u001B[0;32m    340\u001B[0m     \u001B[38;5;28;01mif\u001B[39;00m \u001B[38;5;129;01mnot\u001B[39;00m \u001B[38;5;28misinstance\u001B[39m(s, (\u001B[38;5;28mbytes\u001B[39m, \u001B[38;5;28mbytearray\u001B[39m)):\n\u001B[1;32m--> 341\u001B[0m         \u001B[38;5;28;01mraise\u001B[39;00m \u001B[38;5;167;01mTypeError\u001B[39;00m(\u001B[38;5;124mf\u001B[39m\u001B[38;5;124m'\u001B[39m\u001B[38;5;124mthe JSON object must be str, bytes or bytearray, \u001B[39m\u001B[38;5;124m'\u001B[39m\n\u001B[0;32m    342\u001B[0m                         \u001B[38;5;124mf\u001B[39m\u001B[38;5;124m'\u001B[39m\u001B[38;5;124mnot \u001B[39m\u001B[38;5;132;01m{\u001B[39;00ms\u001B[38;5;241m.\u001B[39m\u001B[38;5;18m__class__\u001B[39m\u001B[38;5;241m.\u001B[39m\u001B[38;5;18m__name__\u001B[39m\u001B[38;5;132;01m}\u001B[39;00m\u001B[38;5;124m'\u001B[39m)\n\u001B[0;32m    343\u001B[0m     s \u001B[38;5;241m=\u001B[39m s\u001B[38;5;241m.\u001B[39mdecode(detect_encoding(s), \u001B[38;5;124m'\u001B[39m\u001B[38;5;124msurrogatepass\u001B[39m\u001B[38;5;124m'\u001B[39m)\n\u001B[0;32m    345\u001B[0m \u001B[38;5;28;01mif\u001B[39;00m \u001B[38;5;124m\"\u001B[39m\u001B[38;5;124mencoding\u001B[39m\u001B[38;5;124m\"\u001B[39m \u001B[38;5;129;01min\u001B[39;00m kw:\n",
      "\u001B[1;31mTypeError\u001B[0m: the JSON object must be str, bytes or bytearray, not list"
     ]
    }
   ],
   "source": [
    "filename = 'D:/A-bus/bus_pytorch/data/dataset/knn-dataset/train.txt'\n",
    "import json\n",
    "with open(filename, 'r') as f:\n",
    "    data = f.readlines()\n",
    "np.array(json.loads(data))"
   ],
   "metadata": {
    "collapsed": false,
    "pycharm": {
     "name": "#%%\n"
    }
   }
  },
  {
   "cell_type": "code",
   "execution_count": 19,
   "outputs": [],
   "source": [
    "import torch\n",
    "A1,A2,A3 = 60 * torch.rand(3,4500)"
   ],
   "metadata": {
    "collapsed": false,
    "pycharm": {
     "name": "#%%\n"
    }
   }
  },
  {
   "cell_type": "code",
   "execution_count": 23,
   "outputs": [
    {
     "data": {
      "text/plain": "torch.Size([4500])"
     },
     "execution_count": 23,
     "metadata": {},
     "output_type": "execute_result"
    }
   ],
   "source": [
    "A4 = torch.max(A1, A2)\n",
    "A4.shape"
   ],
   "metadata": {
    "collapsed": false,
    "pycharm": {
     "name": "#%%\n"
    }
   }
  },
  {
   "cell_type": "code",
   "execution_count": 25,
   "outputs": [
    {
     "data": {
      "text/plain": "tensor([[0., 0., 0.,  ..., -inf, -inf, -inf],\n        [0., 0., 0.,  ..., -inf, -inf, -inf],\n        [0., 0., 0.,  ..., -inf, -inf, -inf],\n        ...,\n        [0., 0., 0.,  ..., 0., -inf, -inf],\n        [0., 0., 0.,  ..., 0., 0., -inf],\n        [0., 0., 0.,  ..., 0., 0., 0.]])"
     },
     "execution_count": 25,
     "metadata": {},
     "output_type": "execute_result"
    }
   ],
   "source": [
    "t0 = 96\n",
    "mask = torch.zeros(t0+24,t0+24)\n",
    "for i in range(0,t0):\n",
    "    mask[i,t0:] = 1\n",
    "for i in range(t0,t0+24):\n",
    "    mask[i,i+1:] = 1\n",
    "mask = mask.float().masked_fill(mask == 1, float('-inf'))#.masked_fill(mask == 1, float(0.0))\n",
    "mask"
   ],
   "metadata": {
    "collapsed": false,
    "pycharm": {
     "name": "#%%\n"
    }
   }
  },
  {
   "cell_type": "code",
   "execution_count": 29,
   "outputs": [
    {
     "data": {
      "text/plain": "torch.Size([4500, 120])"
     },
     "execution_count": 29,
     "metadata": {},
     "output_type": "execute_result"
    }
   ],
   "source": [
    "x = torch.cat(4500*[torch.arange(0,t0+24).type(torch.float).unsqueeze(0)])\n",
    "x.shape"
   ],
   "metadata": {
    "collapsed": false,
    "pycharm": {
     "name": "#%%\n"
    }
   }
  },
  {
   "cell_type": "code",
   "execution_count": 31,
   "outputs": [
    {
     "data": {
      "text/plain": "torch.Size([4500, 120])"
     },
     "execution_count": 31,
     "metadata": {},
     "output_type": "execute_result"
    }
   ],
   "source": [
    "fx = torch.cat([A1.unsqueeze(1)*torch.sin(np.pi*x[0,0:12]/6)+72 ,\n",
    "                        A2.unsqueeze(1)*torch.sin(np.pi*x[0,12:24]/6)+72 ,\n",
    "                        A3.unsqueeze(1)*torch.sin(np.pi*x[0,24:t0]/6)+72,\n",
    "                        A4.unsqueeze(1)*torch.sin(np.pi*x[0,t0:t0+24]/12)+72],1)\n",
    "fx.shape"
   ],
   "metadata": {
    "collapsed": false,
    "pycharm": {
     "name": "#%%\n"
    }
   }
  },
  {
   "cell_type": "code",
   "execution_count": 30,
   "outputs": [
    {
     "data": {
      "text/plain": "torch.Size([4500, 12])"
     },
     "execution_count": 30,
     "metadata": {},
     "output_type": "execute_result"
    }
   ],
   "source": [
    "(A1.unsqueeze(1)*torch.sin(np.pi*x[0,0:12]/6)+72).shape"
   ],
   "metadata": {
    "collapsed": false,
    "pycharm": {
     "name": "#%%\n"
    }
   }
  },
  {
   "cell_type": "code",
   "execution_count": 8,
   "outputs": [
    {
     "data": {
      "text/plain": "torch.Size([29, 1])"
     },
     "execution_count": 8,
     "metadata": {},
     "output_type": "execute_result"
    }
   ],
   "source": [
    "# POS EMBEDDING\n",
    "# 1. no period\n",
    "d_model = 128\n",
    "import torch\n",
    "PE = torch.zeros((29, d_model))  # [29, 128]\n",
    "pos = torch.arange(29).unsqueeze(1)\n",
    "PE[:, 0::2] = torch.sin(pos/torch.pow(1000, torch.arange(0, d_model, 2)/d_model))\n",
    "PE[:, 1::2] = torch.sin(pos/torch.pow(1000, torch.arange(1, d_model, 2)/d_model))"
   ],
   "metadata": {
    "collapsed": false,
    "pycharm": {
     "name": "#%%\n"
    }
   }
  },
  {
   "cell_type": "code",
   "execution_count": 23,
   "outputs": [
    {
     "data": {
      "text/plain": "[<matplotlib.lines.Line2D at 0x1bc35efc580>]"
     },
     "execution_count": 23,
     "metadata": {},
     "output_type": "execute_result"
    },
    {
     "data": {
      "text/plain": "<Figure size 432x288 with 1 Axes>",
      "image/png": "[encoded data removed]"
     },
     "metadata": {
      "needs_background": "light"
     },
     "output_type": "display_data"
    }
   ],
   "source": [
    "plt.plot(list(range(1,129)),PE[1,:])\n",
    "plt.plot(list(range(1,129)),PE[2,:])\n",
    "plt.plot(list(range(1,129)),PE[3,:])"
   ],
   "metadata": {
    "collapsed": false,
    "pycharm": {
     "name": "#%%\n"
    }
   }
  },
  {
   "cell_type": "code",
   "execution_count": 26,
   "outputs": [
    {
     "data": {
      "text/plain": "[<matplotlib.lines.Line2D at 0x1bc3609aac0>]"
     },
     "execution_count": 26,
     "metadata": {},
     "output_type": "execute_result"
    },
    {
     "data": {
      "text/plain": "<Figure size 432x288 with 1 Axes>",
      "image/png": "[encoded data removed]"
     },
     "metadata": {
      "needs_background": "light"
     },
     "output_type": "display_data"
    }
   ],
   "source": [
    "plt.plot(list(range(1,30)),PE[:,0])\n",
    "plt.plot(list(range(1,30)),PE[:,1])\n",
    "plt.plot(list(range(1,30)),PE[:,2])"
   ],
   "metadata": {
    "collapsed": false,
    "pycharm": {
     "name": "#%%\n"
    }
   }
  },
  {
   "cell_type": "code",
   "execution_count": 35,
   "outputs": [
    {
     "name": "stdout",
     "output_type": "stream",
     "text": [
      "torch.Size([29, 1])\n",
      "torch.Size([29, 128])\n"
     ]
    }
   ],
   "source": [
    "# 3. period\n",
    "d_model = 128\n",
    "period = 7\n",
    "PE = torch.zeros((29, d_model))  # [29, 128]\n",
    "pos = torch.arange(29).unsqueeze(1) # [29, 1]\n",
    "PE = torch.sin(pos * 2 * np.pi / period)\n",
    "print(PE.shape)\n",
    "PE = PE.repeat((1, d_model))\n",
    "print(PE.shape)"
   ],
   "metadata": {
    "collapsed": false,
    "pycharm": {
     "name": "#%%\n"
    }
   }
  },
  {
   "cell_type": "code",
   "execution_count": 37,
   "outputs": [
    {
     "data": {
      "text/plain": "[<matplotlib.lines.Line2D at 0x1bc37353850>]"
     },
     "execution_count": 37,
     "metadata": {},
     "output_type": "execute_result"
    },
    {
     "data": {
      "text/plain": "<Figure size 432x288 with 1 Axes>",
      "image/png": "[encoded data removed]"
     },
     "metadata": {
      "needs_background": "light"
     },
     "output_type": "display_data"
    }
   ],
   "source": [
    "plt.plot(list(range(1,129)),PE[1,:])\n",
    "plt.plot(list(range(1,129)),PE[2,:])\n",
    "plt.plot(list(range(1,129)),PE[3,:])"
   ],
   "metadata": {
    "collapsed": false,
    "pycharm": {
     "name": "#%%\n"
    }
   }
  },
  {
   "cell_type": "code",
   "execution_count": 40,
   "outputs": [
    {
     "data": {
      "text/plain": "[<matplotlib.lines.Line2D at 0x1bc3028b220>]"
     },
     "execution_count": 40,
     "metadata": {},
     "output_type": "execute_result"
    },
    {
     "data": {
      "text/plain": "<Figure size 432x288 with 1 Axes>",
      "image/png": "[encoded data removed]"
     },
     "metadata": {
      "needs_background": "light"
     },
     "output_type": "display_data"
    }
   ],
   "source": [
    "plt.plot(list(range(1,30)),PE[:,0])\n",
    "plt.plot(list(range(1,30)),PE[:,1])\n",
    "plt.plot(list(range(1,30)),PE[:,2])"
   ],
   "metadata": {
    "collapsed": false,
    "pycharm": {
     "name": "#%%\n"
    }
   }
  },
  {
   "cell_type": "code",
   "execution_count": 71,
   "outputs": [],
   "source": [
    "#### convolutional attention\n",
    "class CausalConv1d(torch.nn.Conv1d):\n",
    "    def __init__(self,\n",
    "                 in_channels,\n",
    "                 out_channels,\n",
    "                 kernel_size,\n",
    "                 stride=1,\n",
    "                 dilation=1,\n",
    "                 groups=1,\n",
    "                 bias=True):\n",
    "\n",
    "        super(CausalConv1d, self).__init__(\n",
    "            in_channels,\n",
    "            out_channels,\n",
    "            kernel_size=kernel_size,\n",
    "            stride=stride,\n",
    "            padding=0,\n",
    "            dilation=dilation,\n",
    "            groups=groups,\n",
    "            bias=bias)\n",
    "\n",
    "        self.__padding = (kernel_size - 1) * dilation\n",
    "\n",
    "    def forward(self, input):\n",
    "        return super(CausalConv1d, self).forward(F.pad(input, (self.__padding, 0)))"
   ],
   "metadata": {
    "collapsed": false,
    "pycharm": {
     "name": "#%%\n"
    }
   }
  },
  {
   "cell_type": "code",
   "execution_count": 72,
   "outputs": [
    {
     "name": "stdout",
     "output_type": "stream",
     "text": [
      "torch.Size([1, 1, 20])\n",
      "tensor([[[-1.6832, -4.9013, -6.0907, -3.7566, -2.4711, -2.5708, -3.8122,\n",
      "          -4.8550, -5.6173, -3.7324, -4.0656, -5.2786, -6.4146, -4.5795,\n",
      "          -3.3794, -3.6677, -4.7959, -4.9867, -4.7589, -5.1568]]],\n",
      "       grad_fn=<ConvolutionBackward0>)\n"
     ]
    }
   ],
   "source": [
    "kernel_size = 3\n",
    "in_channels=1\n",
    "out_channels=1\n",
    "dilation = 1\n",
    "x = torch.randint(1,10,(1,20)).type(torch.float)\n",
    "convlayer = CausalConv1d(in_channels,out_channels,kernel_size,dilation=dilation)\n",
    "print(convlayer(x.unsqueeze(0)).shape)\n",
    "print(convlayer(x.unsqueeze(0)))"
   ],
   "metadata": {
    "collapsed": false,
    "pycharm": {
     "name": "#%%\n"
    }
   }
  },
  {
   "cell_type": "code",
   "execution_count": 64,
   "outputs": [
    {
     "data": {
      "text/plain": "tensor(0.9517, grad_fn=<AddBackward0>)"
     },
     "execution_count": 64,
     "metadata": {},
     "output_type": "execute_result"
    }
   ],
   "source": [
    "__padding = (kernel_size - 1) * dilation\n",
    "x_pad = F.pad(x, (__padding, 0))\n",
    "torch.dot(convlayer.weight[0][0],x_pad[0][0:3])+convlayer.bias[0]"
   ],
   "metadata": {
    "collapsed": false,
    "pycharm": {
     "name": "#%%\n"
    }
   }
  },
  {
   "cell_type": "code",
   "execution_count": 68,
   "outputs": [
    {
     "name": "stderr",
     "output_type": "stream",
     "text": [
      "F:\\Anaconda\\envs\\pytorch\\lib\\site-packages\\torch\\nn\\functional.py:1944: UserWarning: nn.functional.sigmoid is deprecated. Use torch.sigmoid instead.\n",
      "  warnings.warn(\"nn.functional.sigmoid is deprecated. Use torch.sigmoid instead.\")\n"
     ]
    },
    {
     "data": {
      "text/plain": "torch.Size([1, 256, 20])"
     },
     "execution_count": 68,
     "metadata": {},
     "output_type": "execute_result"
    }
   ],
   "source": [
    "class context_embedding(torch.nn.Module):\n",
    "    def __init__(self, in_channels=1,embedding_size=256,k=5):\n",
    "        super(context_embedding,self).__init__()\n",
    "        self.causal_convolution = CausalConv1d(in_channels,embedding_size,kernel_size=k)\n",
    "\n",
    "    def forward(self, x):\n",
    "        x = self.causal_convolution(x)\n",
    "        return F.sigmoid(x)\n",
    "embedding = context_embedding(1,256,5)\n",
    "embedding(x.unsqueeze(0)).shape"
   ],
   "metadata": {
    "collapsed": false,
    "pycharm": {
     "name": "#%%\n"
    }
   }
  },
  {
   "cell_type": "code",
   "execution_count": null,
   "outputs": [],
   "source": [],
   "metadata": {
    "collapsed": false,
    "pycharm": {
     "name": "#%%\n"
    }
   }
  }
 ],
 "metadata": {
  "kernelspec": {
   "display_name": "Python 3",
   "language": "python",
   "name": "python3"
  },
  "language_info": {
   "codemirror_mode": {
    "name": "ipython",
    "version": 2
   },
   "file_extension": ".py",
   "mimetype": "text/x-python",
   "name": "python",
   "nbconvert_exporter": "python",
   "pygments_lexer": "ipython2",
   "version": "2.7.6"
  }
 },
 "nbformat": 4,
 "nbformat_minor": 0
}