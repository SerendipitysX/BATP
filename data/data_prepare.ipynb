{
 "cells": [
  {
   "cell_type": "code",
   "execution_count": 1,
   "metadata": {
    "collapsed": true
   },
   "outputs": [],
   "source": [
    "import pandas as pd\n",
    "import numpy as np\n",
    "from sklearn.utils import shuffle\n",
    "import torch\n",
    "import numpy as np\n",
    "import matplotlib.pyplot as plt\n",
    "import torch.nn.functional as F"
   ]
  },
  {
   "cell_type": "code",
   "execution_count": 5,
   "outputs": [
    {
     "data": {
      "text/plain": "         bus_id route_id  type station_id         arrival_time   latitude  \\\n27614  BS34047D    00N81     2   B_YH0191  2021-11-01 00:00:48  22.519446   \n27615  BS34047D    00N81     2   B_YH0284  2021-11-01 00:03:16  22.516944   \n27616  BS34047D    00N81     2   B_YH0016  2021-11-01 00:06:11  22.514648   \n27617  BS34047D    00N81     2   B_YH0290  2021-11-01 00:07:08  22.514907   \n27618  BS34047D    00N81     2   B_YH0303  2021-11-01 00:08:53  22.515565   \n27619  BS34047D    00N81     2   B_YH0283  2021-11-01 00:11:21  22.528346   \n27620  BS34047D    00N81     2   B_YH0034  2021-11-01 00:13:43  22.533842   \n27621  BS34047D    00N81     2   B_YH0301  2021-11-01 00:16:28  22.539280   \n27622  BS34047D    00N81     2   B_YH0234  2021-11-01 00:18:09  22.539671   \n27623  BS34047D    00N81     2   B_YH0275  2021-11-01 00:20:58  22.540128   \n27624  BS34047D    00N81     2   B_SH0060  2021-11-01 00:23:42  22.546415   \n27625  BS34047D    00N81     2   B_TY0007  2021-11-01 00:25:55  22.556917   \n27626  BS34047D    00N81     2   B_TY0259  2021-11-01 00:27:54  22.567471   \n\n        longitude  station_order      name  trip_order  global_order  \\\n27614  113.935453              1     滨海之窗南           1             1   \n27615  113.936793              2       海岸城           1             1   \n27616  113.933769              3      电力花园           1             1   \n27617  113.929199              4      佳嘉豪苑           1             1   \n27618  113.927186              5  南山书城地铁站①           1             1   \n27619  113.929843              6      桂庙新村           1             1   \n27620  113.932150              7      深圳大学           1             1   \n27621  113.938288              8     深大北门②           1             1   \n27622  113.946817              9      科技园②           1             1   \n27623  113.955469             10       大冲②           1             1   \n27624  113.959656             11   沙河西铜鼓天桥           1             1   \n27625  113.957838             12       松坪山           1             1   \n27626  113.955298             13       茶光①           1             1   \n\n       timestamp  time_mean  uncertainty  \n27614       48.0       48.0          0.0  \n27615      196.0      196.0          0.0  \n27616      371.0      371.0          0.0  \n27617      428.0      428.0          0.0  \n27618      533.0      533.0          0.0  \n27619      681.0      681.0          0.0  \n27620      823.0      823.0          0.0  \n27621      988.0      988.0          0.0  \n27622     1089.0     1089.0          0.0  \n27623     1258.0     1258.0          0.0  \n27624     1422.0     1422.0          0.0  \n27625     1555.0     1555.0          0.0  \n27626     1674.0     1674.0          0.0  ",
      "text/html": "<div>\n<style scoped>\n    .dataframe tbody tr th:only-of-type {\n        vertical-align: middle;\n    }\n\n    .dataframe tbody tr th {\n        vertical-align: top;\n    }\n\n    .dataframe thead th {\n        text-align: right;\n    }\n</style>\n<table border=\"1\" class=\"dataframe\">\n  <thead>\n    <tr style=\"text-align: right;\">\n      <th></th>\n      <th>bus_id</th>\n      <th>route_id</th>\n      <th>type</th>\n      <th>station_id</th>\n      <th>arrival_time</th>\n      <th>latitude</th>\n      <th>longitude</th>\n      <th>station_order</th>\n      <th>name</th>\n      <th>trip_order</th>\n      <th>global_order</th>\n      <th>timestamp</th>\n      <th>time_mean</th>\n      <th>uncertainty</th>\n    </tr>\n  </thead>\n  <tbody>\n    <tr>\n      <th>27614</th>\n      <td>BS34047D</td>\n      <td>00N81</td>\n      <td>2</td>\n      <td>B_YH0191</td>\n      <td>2021-11-01 00:00:48</td>\n      <td>22.519446</td>\n      <td>113.935453</td>\n      <td>1</td>\n      <td>滨海之窗南</td>\n      <td>1</td>\n      <td>1</td>\n      <td>48.0</td>\n      <td>48.0</td>\n      <td>0.0</td>\n    </tr>\n    <tr>\n      <th>27615</th>\n      <td>BS34047D</td>\n      <td>00N81</td>\n      <td>2</td>\n      <td>B_YH0284</td>\n      <td>2021-11-01 00:03:16</td>\n      <td>22.516944</td>\n      <td>113.936793</td>\n      <td>2</td>\n      <td>海岸城</td>\n      <td>1</td>\n      <td>1</td>\n      <td>196.0</td>\n      <td>196.0</td>\n      <td>0.0</td>\n    </tr>\n    <tr>\n      <th>27616</th>\n      <td>BS34047D</td>\n      <td>00N81</td>\n      <td>2</td>\n      <td>B_YH0016</td>\n      <td>2021-11-01 00:06:11</td>\n      <td>22.514648</td>\n      <td>113.933769</td>\n      <td>3</td>\n      <td>电力花园</td>\n      <td>1</td>\n      <td>1</td>\n      <td>371.0</td>\n      <td>371.0</td>\n      <td>0.0</td>\n    </tr>\n    <tr>\n      <th>27617</th>\n      <td>BS34047D</td>\n      <td>00N81</td>\n      <td>2</td>\n      <td>B_YH0290</td>\n      <td>2021-11-01 00:07:08</td>\n      <td>22.514907</td>\n      <td>113.929199</td>\n      <td>4</td>\n      <td>佳嘉豪苑</td>\n      <td>1</td>\n      <td>1</td>\n      <td>428.0</td>\n      <td>428.0</td>\n      <td>0.0</td>\n    </tr>\n    <tr>\n      <th>27618</th>\n      <td>BS34047D</td>\n      <td>00N81</td>\n      <td>2</td>\n      <td>B_YH0303</td>\n      <td>2021-11-01 00:08:53</td>\n      <td>22.515565</td>\n      <td>113.927186</td>\n      <td>5</td>\n      <td>南山书城地铁站①</td>\n      <td>1</td>\n      <td>1</td>\n      <td>533.0</td>\n      <td>533.0</td>\n      <td>0.0</td>\n    </tr>\n    <tr>\n      <th>27619</th>\n      <td>BS34047D</td>\n      <td>00N81</td>\n      <td>2</td>\n      <td>B_YH0283</td>\n      <td>2021-11-01 00:11:21</td>\n      <td>22.528346</td>\n      <td>113.929843</td>\n      <td>6</td>\n      <td>桂庙新村</td>\n      <td>1</td>\n      <td>1</td>\n      <td>681.0</td>\n      <td>681.0</td>\n      <td>0.0</td>\n    </tr>\n    <tr>\n      <th>27620</th>\n      <td>BS34047D</td>\n      <td>00N81</td>\n      <td>2</td>\n      <td>B_YH0034</td>\n      <td>2021-11-01 00:13:43</td>\n      <td>22.533842</td>\n      <td>113.932150</td>\n      <td>7</td>\n      <td>深圳大学</td>\n      <td>1</td>\n      <td>1</td>\n      <td>823.0</td>\n      <td>823.0</td>\n      <td>0.0</td>\n    </tr>\n    <tr>\n      <th>27621</th>\n      <td>BS34047D</td>\n      <td>00N81</td>\n      <td>2</td>\n      <td>B_YH0301</td>\n      <td>2021-11-01 00:16:28</td>\n      <td>22.539280</td>\n      <td>113.938288</td>\n      <td>8</td>\n      <td>深大北门②</td>\n      <td>1</td>\n      <td>1</td>\n      <td>988.0</td>\n      <td>988.0</td>\n      <td>0.0</td>\n    </tr>\n    <tr>\n      <th>27622</th>\n      <td>BS34047D</td>\n      <td>00N81</td>\n      <td>2</td>\n      <td>B_YH0234</td>\n      <td>2021-11-01 00:18:09</td>\n      <td>22.539671</td>\n      <td>113.946817</td>\n      <td>9</td>\n      <td>科技园②</td>\n      <td>1</td>\n      <td>1</td>\n      <td>1089.0</td>\n      <td>1089.0</td>\n      <td>0.0</td>\n    </tr>\n    <tr>\n      <th>27623</th>\n      <td>BS34047D</td>\n      <td>00N81</td>\n      <td>2</td>\n      <td>B_YH0275</td>\n      <td>2021-11-01 00:20:58</td>\n      <td>22.540128</td>\n      <td>113.955469</td>\n      <td>10</td>\n      <td>大冲②</td>\n      <td>1</td>\n      <td>1</td>\n      <td>1258.0</td>\n      <td>1258.0</td>\n      <td>0.0</td>\n    </tr>\n    <tr>\n      <th>27624</th>\n      <td>BS34047D</td>\n      <td>00N81</td>\n      <td>2</td>\n      <td>B_SH0060</td>\n      <td>2021-11-01 00:23:42</td>\n      <td>22.546415</td>\n      <td>113.959656</td>\n      <td>11</td>\n      <td>沙河西铜鼓天桥</td>\n      <td>1</td>\n      <td>1</td>\n      <td>1422.0</td>\n      <td>1422.0</td>\n      <td>0.0</td>\n    </tr>\n    <tr>\n      <th>27625</th>\n      <td>BS34047D</td>\n      <td>00N81</td>\n      <td>2</td>\n      <td>B_TY0007</td>\n      <td>2021-11-01 00:25:55</td>\n      <td>22.556917</td>\n      <td>113.957838</td>\n      <td>12</td>\n      <td>松坪山</td>\n      <td>1</td>\n      <td>1</td>\n      <td>1555.0</td>\n      <td>1555.0</td>\n      <td>0.0</td>\n    </tr>\n    <tr>\n      <th>27626</th>\n      <td>BS34047D</td>\n      <td>00N81</td>\n      <td>2</td>\n      <td>B_TY0259</td>\n      <td>2021-11-01 00:27:54</td>\n      <td>22.567471</td>\n      <td>113.955298</td>\n      <td>13</td>\n      <td>茶光①</td>\n      <td>1</td>\n      <td>1</td>\n      <td>1674.0</td>\n      <td>1674.0</td>\n      <td>0.0</td>\n    </tr>\n  </tbody>\n</table>\n</div>"
     },
     "execution_count": 5,
     "metadata": {},
     "output_type": "execute_result"
    }
   ],
   "source": [
    "data = pd.read_csv('D:/Jupyter Notebook/BUS_project/Data/A_bus/data_weekdays.csv')"
   ],
   "metadata": {
    "collapsed": false,
    "pycharm": {
     "name": "#%%\n"
    }
   }
  },
  {
   "cell_type": "code",
   "execution_count": 15,
   "outputs": [
    {
     "data": {
      "text/plain": "           bus_id route_id  type station_id         arrival_time   latitude  \\\n53209    BS04126D    02040     2   B_NS0146  2021-11-02 00:02:04  22.493651   \n53210    BS04126D    02040     2    A1B0002  2021-11-02 00:04:33  22.494413   \n55519    BS08576D    02040     1   C_GY0029  2021-11-02 00:00:32  22.541633   \n55520    BS08576D    02040     1   C_GY0046  2021-11-02 00:03:02  22.542470   \n55521    BS08576D    02040     1   C_NH0082  2021-11-02 00:06:00  22.540991   \n...           ...      ...   ...        ...                  ...        ...   \n1347329  BS36565D    M2093     1   E_XX0758  2021-11-08 00:08:53  22.597523   \n1347330  BS36565D    M2093     1   E_XX0024  2021-11-08 00:11:56  22.599560   \n1347331  BS36565D    M2093     1   E_XX0759  2021-11-08 00:14:39  22.598973   \n1347332  BS36565D    M2093     1   E_XX0656  2021-11-08 00:17:46  22.601723   \n1347333  BS36565D    M2093     1    X0E0173  2021-11-08 00:20:46  22.611029   \n\n          longitude  station_order          name  trip_order  global_order  \\\n53209    113.891365             39        月亮湾花园东           8           116   \n53210    113.894186             40       荔山工业园总站           8           116   \n55519    114.109619             41          深圳书城           8           115   \n55520    114.114348             42           人民桥           8           115   \n55521    114.118640             43            国贸           8           115   \n...             ...            ...           ...         ...           ...   \n1347329  113.882291             32          凤岗小学           4            96   \n1347330  113.886384             33           铁岗村           4            96   \n1347331  113.890015             34          铁岗公园           4            96   \n1347332  113.891528             35          易瑞生物           4            96   \n1347333  113.883659             36  桃花源智创小镇公交首末站           4            96   \n\n         timestamp     time_mean  uncertainty  \n53209      86524.0  86394.833333   116.878427  \n53210      86673.0  86544.833333   109.605505  \n55519      86432.0  86294.500000   194.454365  \n55520      86582.0  86445.500000   193.040151  \n55521      86760.0  86627.500000   187.383297  \n...            ...           ...          ...  \n1347329    86933.0  87185.714286   332.374144  \n1347330    87116.0  87352.142857   323.578135  \n1347331    87279.0  87508.428571   316.928413  \n1347332    87466.0  87666.857143   316.666190  \n1347333    87646.0  87831.571429   312.843868  \n\n[143 rows x 14 columns]",
      "text/html": "<div>\n<style scoped>\n    .dataframe tbody tr th:only-of-type {\n        vertical-align: middle;\n    }\n\n    .dataframe tbody tr th {\n        vertical-align: top;\n    }\n\n    .dataframe thead th {\n        text-align: right;\n    }\n</style>\n<table border=\"1\" class=\"dataframe\">\n  <thead>\n    <tr style=\"text-align: right;\">\n      <th></th>\n      <th>bus_id</th>\n      <th>route_id</th>\n      <th>type</th>\n      <th>station_id</th>\n      <th>arrival_time</th>\n      <th>latitude</th>\n      <th>longitude</th>\n      <th>station_order</th>\n      <th>name</th>\n      <th>trip_order</th>\n      <th>global_order</th>\n      <th>timestamp</th>\n      <th>time_mean</th>\n      <th>uncertainty</th>\n    </tr>\n  </thead>\n  <tbody>\n    <tr>\n      <th>53209</th>\n      <td>BS04126D</td>\n      <td>02040</td>\n      <td>2</td>\n      <td>B_NS0146</td>\n      <td>2021-11-02 00:02:04</td>\n      <td>22.493651</td>\n      <td>113.891365</td>\n      <td>39</td>\n      <td>月亮湾花园东</td>\n      <td>8</td>\n      <td>116</td>\n      <td>86524.0</td>\n      <td>86394.833333</td>\n      <td>116.878427</td>\n    </tr>\n    <tr>\n      <th>53210</th>\n      <td>BS04126D</td>\n      <td>02040</td>\n      <td>2</td>\n      <td>A1B0002</td>\n      <td>2021-11-02 00:04:33</td>\n      <td>22.494413</td>\n      <td>113.894186</td>\n      <td>40</td>\n      <td>荔山工业园总站</td>\n      <td>8</td>\n      <td>116</td>\n      <td>86673.0</td>\n      <td>86544.833333</td>\n      <td>109.605505</td>\n    </tr>\n    <tr>\n      <th>55519</th>\n      <td>BS08576D</td>\n      <td>02040</td>\n      <td>1</td>\n      <td>C_GY0029</td>\n      <td>2021-11-02 00:00:32</td>\n      <td>22.541633</td>\n      <td>114.109619</td>\n      <td>41</td>\n      <td>深圳书城</td>\n      <td>8</td>\n      <td>115</td>\n      <td>86432.0</td>\n      <td>86294.500000</td>\n      <td>194.454365</td>\n    </tr>\n    <tr>\n      <th>55520</th>\n      <td>BS08576D</td>\n      <td>02040</td>\n      <td>1</td>\n      <td>C_GY0046</td>\n      <td>2021-11-02 00:03:02</td>\n      <td>22.542470</td>\n      <td>114.114348</td>\n      <td>42</td>\n      <td>人民桥</td>\n      <td>8</td>\n      <td>115</td>\n      <td>86582.0</td>\n      <td>86445.500000</td>\n      <td>193.040151</td>\n    </tr>\n    <tr>\n      <th>55521</th>\n      <td>BS08576D</td>\n      <td>02040</td>\n      <td>1</td>\n      <td>C_NH0082</td>\n      <td>2021-11-02 00:06:00</td>\n      <td>22.540991</td>\n      <td>114.118640</td>\n      <td>43</td>\n      <td>国贸</td>\n      <td>8</td>\n      <td>115</td>\n      <td>86760.0</td>\n      <td>86627.500000</td>\n      <td>187.383297</td>\n    </tr>\n    <tr>\n      <th>...</th>\n      <td>...</td>\n      <td>...</td>\n      <td>...</td>\n      <td>...</td>\n      <td>...</td>\n      <td>...</td>\n      <td>...</td>\n      <td>...</td>\n      <td>...</td>\n      <td>...</td>\n      <td>...</td>\n      <td>...</td>\n      <td>...</td>\n      <td>...</td>\n    </tr>\n    <tr>\n      <th>1347329</th>\n      <td>BS36565D</td>\n      <td>M2093</td>\n      <td>1</td>\n      <td>E_XX0758</td>\n      <td>2021-11-08 00:08:53</td>\n      <td>22.597523</td>\n      <td>113.882291</td>\n      <td>32</td>\n      <td>凤岗小学</td>\n      <td>4</td>\n      <td>96</td>\n      <td>86933.0</td>\n      <td>87185.714286</td>\n      <td>332.374144</td>\n    </tr>\n    <tr>\n      <th>1347330</th>\n      <td>BS36565D</td>\n      <td>M2093</td>\n      <td>1</td>\n      <td>E_XX0024</td>\n      <td>2021-11-08 00:11:56</td>\n      <td>22.599560</td>\n      <td>113.886384</td>\n      <td>33</td>\n      <td>铁岗村</td>\n      <td>4</td>\n      <td>96</td>\n      <td>87116.0</td>\n      <td>87352.142857</td>\n      <td>323.578135</td>\n    </tr>\n    <tr>\n      <th>1347331</th>\n      <td>BS36565D</td>\n      <td>M2093</td>\n      <td>1</td>\n      <td>E_XX0759</td>\n      <td>2021-11-08 00:14:39</td>\n      <td>22.598973</td>\n      <td>113.890015</td>\n      <td>34</td>\n      <td>铁岗公园</td>\n      <td>4</td>\n      <td>96</td>\n      <td>87279.0</td>\n      <td>87508.428571</td>\n      <td>316.928413</td>\n    </tr>\n    <tr>\n      <th>1347332</th>\n      <td>BS36565D</td>\n      <td>M2093</td>\n      <td>1</td>\n      <td>E_XX0656</td>\n      <td>2021-11-08 00:17:46</td>\n      <td>22.601723</td>\n      <td>113.891528</td>\n      <td>35</td>\n      <td>易瑞生物</td>\n      <td>4</td>\n      <td>96</td>\n      <td>87466.0</td>\n      <td>87666.857143</td>\n      <td>316.666190</td>\n    </tr>\n    <tr>\n      <th>1347333</th>\n      <td>BS36565D</td>\n      <td>M2093</td>\n      <td>1</td>\n      <td>X0E0173</td>\n      <td>2021-11-08 00:20:46</td>\n      <td>22.611029</td>\n      <td>113.883659</td>\n      <td>36</td>\n      <td>桃花源智创小镇公交首末站</td>\n      <td>4</td>\n      <td>96</td>\n      <td>87646.0</td>\n      <td>87831.571429</td>\n      <td>312.843868</td>\n    </tr>\n  </tbody>\n</table>\n<p>143 rows × 14 columns</p>\n</div>"
     },
     "execution_count": 15,
     "metadata": {},
     "output_type": "execute_result"
    }
   ],
   "source": [
    "df = data.loc[data.timestamp>=86400,:]\n",
    "# np.where(np.diff(df.station_order.values)<0)[0]\n",
    "df"
   ],
   "metadata": {
    "collapsed": false,
    "pycharm": {
     "name": "#%%\n"
    }
   }
  },
  {
   "cell_type": "code",
   "execution_count": 88,
   "outputs": [
    {
     "data": {
      "text/plain": "        station_order  global_order  timestamp route_info route_id  type  date\n950                 1             1    22405.0    1/00740    00740     1     1\n951                 2             1    22556.0    1/00740    00740     1     1\n952                 3             1    22622.0    1/00740    00740     1     1\n953                 4             1    22707.0    1/00740    00740     1     1\n954                 5             1    22787.0    1/00740    00740     1     1\n...               ...           ...        ...        ...      ...   ...   ...\n123039             34           110    62703.0    1/00740    00740     1    30\n123040             35           110    62830.0    1/00740    00740     1    30\n123041             36           110    63140.0    1/00740    00740     1    30\n123042             37           110    63189.0    1/00740    00740     1    30\n123043             38           110    63248.0    1/00740    00740     1    30\n\n[125400 rows x 7 columns]",
      "text/html": "<div>\n<style scoped>\n    .dataframe tbody tr th:only-of-type {\n        vertical-align: middle;\n    }\n\n    .dataframe tbody tr th {\n        vertical-align: top;\n    }\n\n    .dataframe thead th {\n        text-align: right;\n    }\n</style>\n<table border=\"1\" class=\"dataframe\">\n  <thead>\n    <tr style=\"text-align: right;\">\n      <th></th>\n      <th>station_order</th>\n      <th>global_order</th>\n      <th>timestamp</th>\n      <th>route_info</th>\n      <th>route_id</th>\n      <th>type</th>\n      <th>date</th>\n    </tr>\n  </thead>\n  <tbody>\n    <tr>\n      <th>950</th>\n      <td>1</td>\n      <td>1</td>\n      <td>22405.0</td>\n      <td>1/00740</td>\n      <td>00740</td>\n      <td>1</td>\n      <td>1</td>\n    </tr>\n    <tr>\n      <th>951</th>\n      <td>2</td>\n      <td>1</td>\n      <td>22556.0</td>\n      <td>1/00740</td>\n      <td>00740</td>\n      <td>1</td>\n      <td>1</td>\n    </tr>\n    <tr>\n      <th>952</th>\n      <td>3</td>\n      <td>1</td>\n      <td>22622.0</td>\n      <td>1/00740</td>\n      <td>00740</td>\n      <td>1</td>\n      <td>1</td>\n    </tr>\n    <tr>\n      <th>953</th>\n      <td>4</td>\n      <td>1</td>\n      <td>22707.0</td>\n      <td>1/00740</td>\n      <td>00740</td>\n      <td>1</td>\n      <td>1</td>\n    </tr>\n    <tr>\n      <th>954</th>\n      <td>5</td>\n      <td>1</td>\n      <td>22787.0</td>\n      <td>1/00740</td>\n      <td>00740</td>\n      <td>1</td>\n      <td>1</td>\n    </tr>\n    <tr>\n      <th>...</th>\n      <td>...</td>\n      <td>...</td>\n      <td>...</td>\n      <td>...</td>\n      <td>...</td>\n      <td>...</td>\n      <td>...</td>\n    </tr>\n    <tr>\n      <th>123039</th>\n      <td>34</td>\n      <td>110</td>\n      <td>62703.0</td>\n      <td>1/00740</td>\n      <td>00740</td>\n      <td>1</td>\n      <td>30</td>\n    </tr>\n    <tr>\n      <th>123040</th>\n      <td>35</td>\n      <td>110</td>\n      <td>62830.0</td>\n      <td>1/00740</td>\n      <td>00740</td>\n      <td>1</td>\n      <td>30</td>\n    </tr>\n    <tr>\n      <th>123041</th>\n      <td>36</td>\n      <td>110</td>\n      <td>63140.0</td>\n      <td>1/00740</td>\n      <td>00740</td>\n      <td>1</td>\n      <td>30</td>\n    </tr>\n    <tr>\n      <th>123042</th>\n      <td>37</td>\n      <td>110</td>\n      <td>63189.0</td>\n      <td>1/00740</td>\n      <td>00740</td>\n      <td>1</td>\n      <td>30</td>\n    </tr>\n    <tr>\n      <th>123043</th>\n      <td>38</td>\n      <td>110</td>\n      <td>63248.0</td>\n      <td>1/00740</td>\n      <td>00740</td>\n      <td>1</td>\n      <td>30</td>\n    </tr>\n  </tbody>\n</table>\n<p>125400 rows × 7 columns</p>\n</div>"
     },
     "execution_count": 88,
     "metadata": {},
     "output_type": "execute_result"
    }
   ],
   "source": [
    "data = pd.read_csv('D:/A-bus/BATP/data/data_toyset.csv')\n",
    "data = data.sort_values(by=['global_order','date'])\n",
    "data = data.loc[data.route_info=='1/00740', :]\n",
    "data\n",
    "# max(data.loc[data.route_info=='1/00740', 'station_order']) # 38"
   ],
   "metadata": {
    "collapsed": false,
    "pycharm": {
     "name": "#%%\n"
    }
   }
  },
  {
   "cell_type": "code",
   "execution_count": 32,
   "outputs": [
    {
     "data": {
      "text/plain": "<Figure size 576x432 with 1 Axes>",
      "image/png": "[encoded data removed]"
     },
     "metadata": {
      "needs_background": "light"
     },
     "output_type": "display_data"
    }
   ],
   "source": [
    "import matplotlib.pyplot as plt\n",
    "go = 35\n",
    "data25 = data.loc[(data.date==25)&(data.global_order==go),'timestamp']\n",
    "data26 = data.loc[(data.date==26)&(data.global_order==go),'timestamp']\n",
    "data27 = data.loc[(data.date==27)&(data.global_order==go),'timestamp']\n",
    "fig, ax = plt.subplots(figsize=(8, 6))\n",
    "ax.plot(list(range(1,39)), data25, color=\"green\")\n",
    "ax.plot(list(range(1,39)), (data25.values+data27.values)/2, color=\"red\")\n",
    "ax.plot(list(range(1,39)), data27, color=\"blue\")\n",
    "plt.show()\n",
    "# for i in range(1,111):\n",
    "#     data.loc[(data.date==26)&(data.global_order==i), 'timestamp'] = (data.loc[(data.date==27)&(data.global_order==i), 'timestamp'].values+data.loc[(data.date==25)&(data.global_order==i), 'timestamp'].values)//2\n"
   ],
   "metadata": {
    "collapsed": false,
    "pycharm": {
     "name": "#%%\n"
    }
   }
  },
  {
   "cell_type": "code",
   "execution_count": 52,
   "outputs": [
    {
     "name": "stdout",
     "output_type": "stream",
     "text": [
      "[41950.91110048] [1.12781839e+08]\n"
     ]
    }
   ],
   "source": [
    "from sklearn.preprocessing import  StandardScaler\n",
    "scaler = StandardScaler()\n",
    "scaler.fit(data['timestamp'].values.reshape(-1,1))\n",
    "print(scaler.mean_,scaler.var_)\n",
    "data.loc[:,'timestamp'] = scaler.fit_transform(data['timestamp'].values.reshape(-1,1))"
   ],
   "metadata": {
    "collapsed": false,
    "pycharm": {
     "name": "#%%\n"
    }
   }
  },
  {
   "cell_type": "code",
   "execution_count": 89,
   "outputs": [],
   "source": [
    "## train\n",
    "# train = data.loc[~data.global_order.isin([71,79,72,28,78,49,42,73,11,3,102,40,81,90,61,91,5,50,44,88]),:]\n",
    "# train.to_csv('D:/A-bus/BATP/data/dataset/1-00720-step/train.csv', index=False)\n",
    "# train = data.loc[data.global_order.isin([49,42,73,11,3,102,40,81,90,61,91,5,50,44,88]),:]\n",
    "# train.to_csv('D:/A-bus/BATP/data/dataset/1-00720-step/val.csv', index=False)\n",
    "# train = data.loc[data.global_order.isin([71,79,72,28,78]),:]\n",
    "# train.to_csv('D:/A-bus/BATP/data/dataset/1-00720-step/test.csv', index=False)\n",
    "\n",
    "train = data.loc[data.date<=26,:]\n",
    "train.to_csv('D:/A-bus/BATP/data/dataset/1-00720-step/train.csv', index=False)\n",
    "train = data.loc[(data.date>26)&(data.date<=29),:]\n",
    "train.to_csv('D:/A-bus/BATP/data/dataset/1-00720-step/val.csv', index=False)\n",
    "train = data.loc[data.date==30,:]\n",
    "train.to_csv('D:/A-bus/BATP/data/dataset/1-00720-step/test.csv', index=False)"
   ],
   "metadata": {
    "collapsed": false,
    "pycharm": {
     "name": "#%%\n"
    }
   }
  },
  {
   "cell_type": "code",
   "execution_count": 82,
   "outputs": [],
   "source": [
    " # X = np.stack([np.roll(ts, i, axis = 0) for i in range(lags, 0, -1)], axis = 1)[33:-5,]\n",
    "X_train, Y_train = [], []\n",
    "train = pd.read_csv('D:/A-bus/BATP/data/dataset/1-00720-step/test.csv')\n",
    "for i in range(min(train.date), max(train.date)+1):\n",
    "    for j in range(min(train.global_order), max(train.global_order)+1):\n",
    "        time_df = train.loc[(train.date==i)&(train.global_order==j), 'station_order']\n",
    "        X = np.stack([np.roll(time_df, i, axis = 0) for i in range(33, 0, -1)], axis = 1)\n",
    "        Y = np.stack([np.roll(time_df, -i, axis = 0) for i in range(0, 5, 1)], axis = 1)\n",
    "        if i == min(train.date) and j == min(train.global_order):\n",
    "            X_train,Y_train = X,Y\n",
    "        else:\n",
    "            X_train = np.concatenate((X_train, X), axis=0)\n",
    "            Y_train = np.concatenate((Y_train, Y), axis=0)\n"
   ],
   "metadata": {
    "collapsed": false,
    "pycharm": {
     "name": "#%%\n"
    }
   }
  },
  {
   "cell_type": "code",
   "execution_count": 83,
   "outputs": [
    {
     "name": "stdout",
     "output_type": "stream",
     "text": [
      "(4180, 5)\n"
     ]
    },
    {
     "data": {
      "text/plain": "array([[ 1,  2,  3,  4,  5],\n       [ 2,  3,  4,  5,  6],\n       [ 3,  4,  5,  6,  7],\n       ...,\n       [36, 37, 38,  1,  2],\n       [37, 38,  1,  2,  3],\n       [38,  1,  2,  3,  4]], dtype=int64)"
     },
     "execution_count": 83,
     "metadata": {},
     "output_type": "execute_result"
    }
   ],
   "source": [
    "print(Y_train.shape)\n",
    "# Y_train = Y_train.reshape(-1,5,38)\n",
    "# Y_train = Y_train[:,:,:,np.newaxis,np.newaxis]\n",
    "Y_train"
   ],
   "metadata": {
    "collapsed": false,
    "pycharm": {
     "name": "#%%\n"
    }
   }
  },
  {
   "cell_type": "code",
   "execution_count": 84,
   "outputs": [
    {
     "data": {
      "text/plain": "     global_order route_info  \\\n0               1    1/00740   \n1              79    1/00740   \n2              11    1/00740   \n3              80    1/00740   \n4              34    1/00740   \n..            ...        ...   \n105            88    1/00740   \n106            73    1/00740   \n107            63    1/00740   \n108            42    1/00740   \n109            94    1/00740   \n\n                                             timestamp  \n0    [-1.840502166378519, -1.826283549211251, -1.82...  \n1    [0.5575476574546787, 0.5748736545326741, 0.581...  \n2    [-1.575056591580318, -1.558013083585116, -1.55...  \n3    [0.5702596661803818, 0.602369258591232, 0.6096...  \n4    [-1.1163884841514293, -1.0054644376412198, -0....  \n..                                                 ...  \n105  [0.814801048851871, 0.831844556847073, 0.84107...  \n106  [0.36969241739706576, 0.39502227182087424, 0.4...  \n107  [-0.024568179154926963, 0.012720379773802226, ...  \n108  [-0.7705276837847064, -0.7582864901969922, -0....  \n109  [0.9946524315636709, 1.017345721214741, 1.0266...  \n\n[110 rows x 3 columns]",
      "text/html": "<div>\n<style scoped>\n    .dataframe tbody tr th:only-of-type {\n        vertical-align: middle;\n    }\n\n    .dataframe tbody tr th {\n        vertical-align: top;\n    }\n\n    .dataframe thead th {\n        text-align: right;\n    }\n</style>\n<table border=\"1\" class=\"dataframe\">\n  <thead>\n    <tr style=\"text-align: right;\">\n      <th></th>\n      <th>global_order</th>\n      <th>route_info</th>\n      <th>timestamp</th>\n    </tr>\n  </thead>\n  <tbody>\n    <tr>\n      <th>0</th>\n      <td>1</td>\n      <td>1/00740</td>\n      <td>[-1.840502166378519, -1.826283549211251, -1.82...</td>\n    </tr>\n    <tr>\n      <th>1</th>\n      <td>79</td>\n      <td>1/00740</td>\n      <td>[0.5575476574546787, 0.5748736545326741, 0.581...</td>\n    </tr>\n    <tr>\n      <th>2</th>\n      <td>11</td>\n      <td>1/00740</td>\n      <td>[-1.575056591580318, -1.558013083585116, -1.55...</td>\n    </tr>\n    <tr>\n      <th>3</th>\n      <td>80</td>\n      <td>1/00740</td>\n      <td>[0.5702596661803818, 0.602369258591232, 0.6096...</td>\n    </tr>\n    <tr>\n      <th>4</th>\n      <td>34</td>\n      <td>1/00740</td>\n      <td>[-1.1163884841514293, -1.0054644376412198, -0....</td>\n    </tr>\n    <tr>\n      <th>...</th>\n      <td>...</td>\n      <td>...</td>\n      <td>...</td>\n    </tr>\n    <tr>\n      <th>105</th>\n      <td>88</td>\n      <td>1/00740</td>\n      <td>[0.814801048851871, 0.831844556847073, 0.84107...</td>\n    </tr>\n    <tr>\n      <th>106</th>\n      <td>73</td>\n      <td>1/00740</td>\n      <td>[0.36969241739706576, 0.39502227182087424, 0.4...</td>\n    </tr>\n    <tr>\n      <th>107</th>\n      <td>63</td>\n      <td>1/00740</td>\n      <td>[-0.024568179154926963, 0.012720379773802226, ...</td>\n    </tr>\n    <tr>\n      <th>108</th>\n      <td>42</td>\n      <td>1/00740</td>\n      <td>[-0.7705276837847064, -0.7582864901969922, -0....</td>\n    </tr>\n    <tr>\n      <th>109</th>\n      <td>94</td>\n      <td>1/00740</td>\n      <td>[0.9946524315636709, 1.017345721214741, 1.0266...</td>\n    </tr>\n  </tbody>\n</table>\n<p>110 rows × 3 columns</p>\n</div>"
     },
     "execution_count": 84,
     "metadata": {},
     "output_type": "execute_result"
    }
   ],
   "source": [
    "### shuffle index of origin data, len=434\n",
    "data = data.groupby(['global_order','route_info'],as_index=False)['timestamp'].agg({'timestamp': lambda x:x.tolist()})\n",
    "data = data.loc[data.route_info=='1/00740']\n",
    "data = shuffle(data)\n",
    "data = data.reset_index(drop=True)\n",
    "data"
   ],
   "metadata": {
    "collapsed": false,
    "pycharm": {
     "name": "#%%\n"
    }
   }
  },
  {
   "cell_type": "code",
   "execution_count": 9,
   "outputs": [],
   "source": [
    "saveTrain = 'D:/A-bus/BATP/data/dataset/partial-prediction/train.txt'\n",
    "data_train = data.loc[:90,'timestamp'].reset_index(drop=True)\n",
    "saveFile = open(saveTrain,'a')\n",
    "for i in range(len(data_train)):\n",
    "    lineToWrite = data_train[i]\n",
    "    saveFile.write(f\"{lineToWrite}\\n\")\n",
    "saveFile.close()\n",
    "\n",
    "saveVal = 'D:/A-bus/BATP/data/dataset/partial-prediction/val.txt'\n",
    "data_val = data.loc[90:105,'timestamp'].reset_index(drop=True)\n",
    "saveFile = open(saveVal,'a')\n",
    "for i in range(len(data_val)):\n",
    "    lineToWrite = data_val[i]\n",
    "    saveFile.write(f\"{lineToWrite}\\n\")\n",
    "saveFile.close()\n",
    "\n",
    "saveTest = 'D:/A-bus/BATP/data/dataset/partial-prediction/test.txt'\n",
    "data_test = data.loc[105:,'timestamp'].reset_index(drop=True)\n",
    "saveFile = open(saveTest,'a')\n",
    "for i in range(len(data_test)):\n",
    "    lineToWrite = data_test[i]\n",
    "    saveFile.write(f\"{lineToWrite}\\n\")\n",
    "saveFile.close()"
   ],
   "metadata": {
    "collapsed": false,
    "pycharm": {
     "name": "#%%\n"
    }
   }
  },
  {
   "cell_type": "code",
   "execution_count": 26,
   "outputs": [],
   "source": [
    "###  train:344   val:86+3   test:1 bz=16\n",
    "###  train:90   val:15   test:5 bz=15\n",
    "saveTrain = 'D:/A-bus/BATP/data/dataset/1-00740/train.txt'\n",
    "data_train = data.loc[:89,'timestamp'].reset_index(drop=True)\n",
    "saveFile = open(saveTrain,'a')\n",
    "TrainOrder = 'D:/A-bus/BATP/data/dataset/1-00740/train_order.txt'\n",
    "trainOrder = data.loc[:89,'global_order'].reset_index(drop=True)\n",
    "saveOrder = open(TrainOrder,'a')\n",
    "for i in range(len(data_train)):\n",
    "    lineToWrite = data_train[i]\n",
    "    saveFile.write(f\"{lineToWrite}\\n\")\n",
    "saveFile.close()\n",
    "for i in range(len(trainOrder)):\n",
    "    lineToWrite = trainOrder[i]\n",
    "    saveOrder.write(f\"{lineToWrite}\\n\")\n",
    "saveOrder.close()\n",
    "\n",
    "saveVal = 'D:/A-bus/BATP/data/dataset/1-00740/val.txt'\n",
    "data_val = data.loc[90:104,'timestamp'].reset_index(drop=True)\n",
    "saveFile = open(saveVal,'a')\n",
    "ValOrder = 'D:/A-bus/BATP/data/dataset/1-00740/val_order.txt'\n",
    "valOrder = data.loc[90:104,'global_order'].reset_index(drop=True)\n",
    "saveOrder = open(ValOrder,'a')\n",
    "for i in range(len(data_val)):\n",
    "    lineToWrite = data_val[i]\n",
    "    saveFile.write(f\"{lineToWrite}\\n\")\n",
    "saveFile.close()\n",
    "for i in range(len(valOrder)):\n",
    "    lineToWrite = valOrder[i]\n",
    "    saveOrder.write(f\"{lineToWrite}\\n\")\n",
    "saveOrder.close()\n",
    "\n",
    "saveTest = 'D:/A-bus/BATP/data/dataset/1-00740/test.txt'\n",
    "data_test = data.loc[105:,'timestamp'].reset_index(drop=True)\n",
    "saveFile = open(saveTest,'a')\n",
    "TestOrder = 'D:/A-bus/BATP/data/dataset/1-00740/test_order.txt'\n",
    "testOrder = data.loc[105:,'global_order'].reset_index(drop=True)\n",
    "saveOrder = open(TestOrder,'a')\n",
    "for i in range(len(data_test)):\n",
    "    lineToWrite = data_test[i]\n",
    "    saveFile.write(f\"{lineToWrite}\\n\")\n",
    "saveFile.close()\n",
    "for i in range(len(testOrder)):\n",
    "    lineToWrite = testOrder[i]\n",
    "    saveOrder.write(f\"{lineToWrite}\\n\")\n",
    "saveOrder.close()"
   ],
   "metadata": {
    "collapsed": false,
    "pycharm": {
     "name": "#%%\n"
    }
   }
  },
  {
   "cell_type": "code",
   "execution_count": 73,
   "outputs": [],
   "source": [],
   "metadata": {
    "collapsed": false,
    "pycharm": {
     "name": "#%%\n"
    }
   }
  },
  {
   "cell_type": "code",
   "execution_count": 90,
   "outputs": [
    {
     "data": {
      "text/plain": "      trip_num                                          timestamp\n0            1  [0.0, 151.0, 217.0, 302.0, 382.0, 648.0, 754.0...\n1            2  [0.0, 133.0, 204.0, 293.0, 383.0, 733.0, 861.0...\n2            3  [0.0, 184.0, 249.0, 318.0, 402.0, 665.0, 778.0...\n3            4  [0.0, 180.0, 246.0, 320.0, 406.0, 686.0, 812.0...\n4            5  [0.0, 133.0, 203.0, 269.0, 352.0, 656.0, 792.0...\n...        ...                                                ...\n3295      3296  [0.0, 487.0, 573.0, 635.0, 711.0, 907.0, 1104....\n3296      3297  [0.0, 537.0, 625.0, 689.0, 795.0, 1097.0, 1200...\n3297      3298  [0.0, 295.0, 374.0, 439.0, 534.0, 902.0, 1037....\n3298      3299  [0.0, 211.0, 310.0, 413.0, 479.0, 736.0, 837.0...\n3299      3300  [0.0, 283.0, 357.0, 442.0, 584.0, 854.0, 983.0...\n\n[3300 rows x 2 columns]",
      "text/html": "<div>\n<style scoped>\n    .dataframe tbody tr th:only-of-type {\n        vertical-align: middle;\n    }\n\n    .dataframe tbody tr th {\n        vertical-align: top;\n    }\n\n    .dataframe thead th {\n        text-align: right;\n    }\n</style>\n<table border=\"1\" class=\"dataframe\">\n  <thead>\n    <tr style=\"text-align: right;\">\n      <th></th>\n      <th>trip_num</th>\n      <th>timestamp</th>\n    </tr>\n  </thead>\n  <tbody>\n    <tr>\n      <th>0</th>\n      <td>1</td>\n      <td>[0.0, 151.0, 217.0, 302.0, 382.0, 648.0, 754.0...</td>\n    </tr>\n    <tr>\n      <th>1</th>\n      <td>2</td>\n      <td>[0.0, 133.0, 204.0, 293.0, 383.0, 733.0, 861.0...</td>\n    </tr>\n    <tr>\n      <th>2</th>\n      <td>3</td>\n      <td>[0.0, 184.0, 249.0, 318.0, 402.0, 665.0, 778.0...</td>\n    </tr>\n    <tr>\n      <th>3</th>\n      <td>4</td>\n      <td>[0.0, 180.0, 246.0, 320.0, 406.0, 686.0, 812.0...</td>\n    </tr>\n    <tr>\n      <th>4</th>\n      <td>5</td>\n      <td>[0.0, 133.0, 203.0, 269.0, 352.0, 656.0, 792.0...</td>\n    </tr>\n    <tr>\n      <th>...</th>\n      <td>...</td>\n      <td>...</td>\n    </tr>\n    <tr>\n      <th>3295</th>\n      <td>3296</td>\n      <td>[0.0, 487.0, 573.0, 635.0, 711.0, 907.0, 1104....</td>\n    </tr>\n    <tr>\n      <th>3296</th>\n      <td>3297</td>\n      <td>[0.0, 537.0, 625.0, 689.0, 795.0, 1097.0, 1200...</td>\n    </tr>\n    <tr>\n      <th>3297</th>\n      <td>3298</td>\n      <td>[0.0, 295.0, 374.0, 439.0, 534.0, 902.0, 1037....</td>\n    </tr>\n    <tr>\n      <th>3298</th>\n      <td>3299</td>\n      <td>[0.0, 211.0, 310.0, 413.0, 479.0, 736.0, 837.0...</td>\n    </tr>\n    <tr>\n      <th>3299</th>\n      <td>3300</td>\n      <td>[0.0, 283.0, 357.0, 442.0, 584.0, 854.0, 983.0...</td>\n    </tr>\n  </tbody>\n</table>\n<p>3300 rows × 2 columns</p>\n</div>"
     },
     "execution_count": 90,
     "metadata": {},
     "output_type": "execute_result"
    }
   ],
   "source": [
    "##### make KNN-dataset\n",
    "##### time begins with 0\n",
    "##### add lat and lon, helping to interpolate\n",
    "\n",
    "data_ = data.copy()\n",
    "data_ = data_.loc[data_.route_info=='1/00740',:]\n",
    "data_ = data_.reset_index(drop=True)\n",
    "# ### add trip_num, helping to group same trip\n",
    "station_diff = np.where(np.diff(data_['station_order'])==-37)[0]+1\n",
    "a = np.array([i+1 for i in range(len(station_diff)+1)])\n",
    "data_['trip_num'] = np.repeat(a,38)\n",
    "# ### make time of trip is relative to the first station\n",
    "data_ = data_.groupby(['trip_num'],as_index=False)['timestamp'].agg({'timestamp': lambda x:x.tolist()})\n",
    "data_.timestamp = data_.timestamp.apply(lambda x: [i-x[0] for i in x])\n",
    "data_"
   ],
   "metadata": {
    "collapsed": false,
    "pycharm": {
     "name": "#%%\n"
    }
   }
  },
  {
   "cell_type": "code",
   "execution_count": 120,
   "outputs": [
    {
     "data": {
      "text/plain": "array([  38,   58,   86,  133,  422,  500,  575,  631,  687,  719,  747,\n        771,  917,  963, 1032, 1070, 1127, 1159, 1195, 1257, 1301, 1352,\n       1485, 1612, 1744, 1799, 1834, 1872, 1913, 1947, 2011, 2033, 2069,\n       2110, 2188, 2202, 2209])"
     },
     "execution_count": 120,
     "metadata": {},
     "output_type": "execute_result"
    }
   ],
   "source": [
    "### interpolate 10m\n",
    "l = [380,\n",
    " 200,\n",
    " 280,\n",
    " 470,\n",
    " 2890,\n",
    " 780,\n",
    " 750,\n",
    " 560,\n",
    " 560,\n",
    " 320,\n",
    " 280,\n",
    " 240,\n",
    " 1460,\n",
    " 460,\n",
    " 690,\n",
    " 380,\n",
    " 570,\n",
    " 320,\n",
    " 360,\n",
    " 620,\n",
    " 440,\n",
    " 510,\n",
    " 1330,\n",
    " 1270,\n",
    " 1320,\n",
    " 550,\n",
    " 350,\n",
    " 380,\n",
    " 410,\n",
    " 340,\n",
    " 640,\n",
    " 220,\n",
    " 360,\n",
    " 410,\n",
    " 780,\n",
    " 140,\n",
    " 70]\n",
    "l = [380,\n",
    " 200,\n",
    " 280,\n",
    " 470,\n",
    " 2890,\n",
    " 780,\n",
    " 750,\n",
    " 560,\n",
    " 560,\n",
    " 320,\n",
    " 280,\n",
    " 240,\n",
    " 1460,\n",
    " 460,\n",
    " 690,\n",
    " 380,\n",
    " 570,\n",
    " 320,\n",
    " 360,\n",
    " 620,\n",
    " 440,\n",
    " 510,\n",
    " 1330,\n",
    " 1270,\n",
    " 1320,\n",
    " 550,\n",
    " 350,\n",
    " 380,\n",
    " 410,\n",
    " 340,\n",
    " 640,\n",
    " 220,\n",
    " 360,\n",
    " 410,\n",
    " 780,\n",
    " 140,\n",
    " 70]\n",
    "l = [int(i/10) for i in l]\n",
    "l = np.cumsum(l)   # test: l[2:]\n",
    "time = data_.timestamp[0]\n",
    "l"
   ],
   "metadata": {
    "collapsed": false,
    "pycharm": {
     "name": "#%%\n"
    }
   }
  },
  {
   "cell_type": "code",
   "execution_count": 128,
   "outputs": [],
   "source": [
    "def func(time):\n",
    " time_array = np.linspace(time[0],time[1],5)\n",
    " distance_array = np.linspace(0,l[0],5)\n",
    " for i in range(1,len(l)):\n",
    "   index = np.linspace(time[i],time[i+1],5)\n",
    "   time_array = np.concatenate((time_array,index[1:]))\n",
    "   index = np.linspace(l[i-1],l[i],5)\n",
    "   distance_array = np.concatenate((distance_array,index[1:]))\n",
    " coord = []\n",
    " for a, b in zip(distance_array,time_array):\n",
    "     coord.append( [ a, b ] )\n",
    " return coord\n",
    "\n",
    "# time_array = np.linspace(time[0],time[1],5)\n",
    "# distance_array = np.linspace(0,l[0],5)\n",
    "# time_array, distance_array\n",
    "# for i in range(1,len(l)):\n",
    "#   index = np.linspace(time[i],time[i+1],5)\n",
    "#   time_array = np.concatenate((time_array,index[1:]))\n",
    "#   index = np.linspace(l[i-1],l[i],5)\n",
    "#   distance_array = np.concatenate((distance_array,index[1:]))\n",
    "# coord = []\n",
    "# for a, b in zip(distance_array,time_array):\n",
    "#     coord.append( [ a, b ] )\n",
    "# [coord[i] for i in range(0,150) if i%4==0]  # 每个站点之间插3个点"
   ],
   "metadata": {
    "collapsed": false,
    "pycharm": {
     "name": "#%%\n"
    }
   }
  },
  {
   "cell_type": "code",
   "execution_count": 129,
   "outputs": [],
   "source": [
    "data_['coord'] = data_['timestamp'].apply(lambda x: func(x))"
   ],
   "metadata": {
    "collapsed": false,
    "pycharm": {
     "name": "#%%\n"
    }
   }
  },
  {
   "cell_type": "code",
   "execution_count": 131,
   "outputs": [],
   "source": [
    "###'1/00740'  totoal:3300\n",
    "saveTrain = 'D:/A-bus/bus_pytorch/data/dataset/knn-dataset/train.csv'\n",
    "data_train = data_['coord'].reset_index(drop=True)\n",
    "pd.DataFrame(data_train).to_csv(saveTrain,index=False)"
   ],
   "metadata": {
    "collapsed": false,
    "pycharm": {
     "name": "#%%\n"
    }
   }
  },
  {
   "cell_type": "code",
   "execution_count": 81,
   "outputs": [
    {
     "ename": "TypeError",
     "evalue": "the JSON object must be str, bytes or bytearray, not list",
     "output_type": "error",
     "traceback": [
      "\u001B[1;31m---------------------------------------------------------------------------\u001B[0m",
      "\u001B[1;31mTypeError\u001B[0m                                 Traceback (most recent call last)",
      "Input \u001B[1;32mIn [81]\u001B[0m, in \u001B[0;36m<cell line: 5>\u001B[1;34m()\u001B[0m\n\u001B[0;32m      3\u001B[0m \u001B[38;5;28;01mwith\u001B[39;00m \u001B[38;5;28mopen\u001B[39m(filename, \u001B[38;5;124m'\u001B[39m\u001B[38;5;124mr\u001B[39m\u001B[38;5;124m'\u001B[39m) \u001B[38;5;28;01mas\u001B[39;00m f:\n\u001B[0;32m      4\u001B[0m     data \u001B[38;5;241m=\u001B[39m f\u001B[38;5;241m.\u001B[39mreadlines()\n\u001B[1;32m----> 5\u001B[0m np\u001B[38;5;241m.\u001B[39marray(\u001B[43mjson\u001B[49m\u001B[38;5;241;43m.\u001B[39;49m\u001B[43mloads\u001B[49m\u001B[43m(\u001B[49m\u001B[43mdata\u001B[49m\u001B[43m)\u001B[49m)\n",
      "File \u001B[1;32mF:\\Anaconda\\envs\\pytorch\\lib\\json\\__init__.py:341\u001B[0m, in \u001B[0;36mloads\u001B[1;34m(s, cls, object_hook, parse_float, parse_int, parse_constant, object_pairs_hook, **kw)\u001B[0m\n\u001B[0;32m    339\u001B[0m \u001B[38;5;28;01melse\u001B[39;00m:\n\u001B[0;32m    340\u001B[0m     \u001B[38;5;28;01mif\u001B[39;00m \u001B[38;5;129;01mnot\u001B[39;00m \u001B[38;5;28misinstance\u001B[39m(s, (\u001B[38;5;28mbytes\u001B[39m, \u001B[38;5;28mbytearray\u001B[39m)):\n\u001B[1;32m--> 341\u001B[0m         \u001B[38;5;28;01mraise\u001B[39;00m \u001B[38;5;167;01mTypeError\u001B[39;00m(\u001B[38;5;124mf\u001B[39m\u001B[38;5;124m'\u001B[39m\u001B[38;5;124mthe JSON object must be str, bytes or bytearray, \u001B[39m\u001B[38;5;124m'\u001B[39m\n\u001B[0;32m    342\u001B[0m                         \u001B[38;5;124mf\u001B[39m\u001B[38;5;124m'\u001B[39m\u001B[38;5;124mnot \u001B[39m\u001B[38;5;132;01m{\u001B[39;00ms\u001B[38;5;241m.\u001B[39m\u001B[38;5;18m__class__\u001B[39m\u001B[38;5;241m.\u001B[39m\u001B[38;5;18m__name__\u001B[39m\u001B[38;5;132;01m}\u001B[39;00m\u001B[38;5;124m'\u001B[39m)\n\u001B[0;32m    343\u001B[0m     s \u001B[38;5;241m=\u001B[39m s\u001B[38;5;241m.\u001B[39mdecode(detect_encoding(s), \u001B[38;5;124m'\u001B[39m\u001B[38;5;124msurrogatepass\u001B[39m\u001B[38;5;124m'\u001B[39m)\n\u001B[0;32m    345\u001B[0m \u001B[38;5;28;01mif\u001B[39;00m \u001B[38;5;124m\"\u001B[39m\u001B[38;5;124mencoding\u001B[39m\u001B[38;5;124m\"\u001B[39m \u001B[38;5;129;01min\u001B[39;00m kw:\n",
      "\u001B[1;31mTypeError\u001B[0m: the JSON object must be str, bytes or bytearray, not list"
     ]
    }
   ],
   "source": [
    "filename = 'D:/A-bus/bus_pytorch/data/dataset/knn-dataset/train.txt'\n",
    "import json\n",
    "with open(filename, 'r') as f:\n",
    "    data = f.readlines()\n",
    "np.array(json.loads(data))"
   ],
   "metadata": {
    "collapsed": false,
    "pycharm": {
     "name": "#%%\n"
    }
   }
  },
  {
   "cell_type": "code",
   "execution_count": 19,
   "outputs": [],
   "source": [
    "import torch\n",
    "A1,A2,A3 = 60 * torch.rand(3,4500)"
   ],
   "metadata": {
    "collapsed": false,
    "pycharm": {
     "name": "#%%\n"
    }
   }
  },
  {
   "cell_type": "code",
   "execution_count": 23,
   "outputs": [
    {
     "data": {
      "text/plain": "torch.Size([4500])"
     },
     "execution_count": 23,
     "metadata": {},
     "output_type": "execute_result"
    }
   ],
   "source": [
    "A4 = torch.max(A1, A2)\n",
    "A4.shape"
   ],
   "metadata": {
    "collapsed": false,
    "pycharm": {
     "name": "#%%\n"
    }
   }
  },
  {
   "cell_type": "code",
   "execution_count": 25,
   "outputs": [
    {
     "data": {
      "text/plain": "tensor([[0., 0., 0.,  ..., -inf, -inf, -inf],\n        [0., 0., 0.,  ..., -inf, -inf, -inf],\n        [0., 0., 0.,  ..., -inf, -inf, -inf],\n        ...,\n        [0., 0., 0.,  ..., 0., -inf, -inf],\n        [0., 0., 0.,  ..., 0., 0., -inf],\n        [0., 0., 0.,  ..., 0., 0., 0.]])"
     },
     "execution_count": 25,
     "metadata": {},
     "output_type": "execute_result"
    }
   ],
   "source": [
    "t0 = 96\n",
    "mask = torch.zeros(t0+24,t0+24)\n",
    "for i in range(0,t0):\n",
    "    mask[i,t0:] = 1\n",
    "for i in range(t0,t0+24):\n",
    "    mask[i,i+1:] = 1\n",
    "mask = mask.float().masked_fill(mask == 1, float('-inf'))#.masked_fill(mask == 1, float(0.0))\n",
    "mask"
   ],
   "metadata": {
    "collapsed": false,
    "pycharm": {
     "name": "#%%\n"
    }
   }
  },
  {
   "cell_type": "code",
   "execution_count": 29,
   "outputs": [
    {
     "data": {
      "text/plain": "torch.Size([4500, 120])"
     },
     "execution_count": 29,
     "metadata": {},
     "output_type": "execute_result"
    }
   ],
   "source": [
    "x = torch.cat(4500*[torch.arange(0,t0+24).type(torch.float).unsqueeze(0)])\n",
    "x.shape"
   ],
   "metadata": {
    "collapsed": false,
    "pycharm": {
     "name": "#%%\n"
    }
   }
  },
  {
   "cell_type": "code",
   "execution_count": 31,
   "outputs": [
    {
     "data": {
      "text/plain": "torch.Size([4500, 120])"
     },
     "execution_count": 31,
     "metadata": {},
     "output_type": "execute_result"
    }
   ],
   "source": [
    "fx = torch.cat([A1.unsqueeze(1)*torch.sin(np.pi*x[0,0:12]/6)+72 ,\n",
    "                        A2.unsqueeze(1)*torch.sin(np.pi*x[0,12:24]/6)+72 ,\n",
    "                        A3.unsqueeze(1)*torch.sin(np.pi*x[0,24:t0]/6)+72,\n",
    "                        A4.unsqueeze(1)*torch.sin(np.pi*x[0,t0:t0+24]/12)+72],1)\n",
    "fx.shape"
   ],
   "metadata": {
    "collapsed": false,
    "pycharm": {
     "name": "#%%\n"
    }
   }
  },
  {
   "cell_type": "code",
   "execution_count": 30,
   "outputs": [
    {
     "data": {
      "text/plain": "torch.Size([4500, 12])"
     },
     "execution_count": 30,
     "metadata": {},
     "output_type": "execute_result"
    }
   ],
   "source": [
    "(A1.unsqueeze(1)*torch.sin(np.pi*x[0,0:12]/6)+72).shape"
   ],
   "metadata": {
    "collapsed": false,
    "pycharm": {
     "name": "#%%\n"
    }
   }
  },
  {
   "cell_type": "code",
   "execution_count": 8,
   "outputs": [
    {
     "data": {
      "text/plain": "torch.Size([29, 1])"
     },
     "execution_count": 8,
     "metadata": {},
     "output_type": "execute_result"
    }
   ],
   "source": [
    "# POS EMBEDDING\n",
    "# 1. no period\n",
    "d_model = 128\n",
    "import torch\n",
    "PE = torch.zeros((29, d_model))  # [29, 128]\n",
    "pos = torch.arange(29).unsqueeze(1)\n",
    "PE[:, 0::2] = torch.sin(pos/torch.pow(1000, torch.arange(0, d_model, 2)/d_model))\n",
    "PE[:, 1::2] = torch.sin(pos/torch.pow(1000, torch.arange(1, d_model, 2)/d_model))"
   ],
   "metadata": {
    "collapsed": false,
    "pycharm": {
     "name": "#%%\n"
    }
   }
  },
  {
   "cell_type": "code",
   "execution_count": 23,
   "outputs": [
    {
     "data": {
      "text/plain": "[<matplotlib.lines.Line2D at 0x1bc35efc580>]"
     },
     "execution_count": 23,
     "metadata": {},
     "output_type": "execute_result"
    },
    {
     "data": {
      "text/plain": "<Figure size 432x288 with 1 Axes>",
      "image/png": "[encoded data removed]"
     },
     "metadata": {
      "needs_background": "light"
     },
     "output_type": "display_data"
    }
   ],
   "source": [
    "plt.plot(list(range(1,129)),PE[1,:])\n",
    "plt.plot(list(range(1,129)),PE[2,:])\n",
    "plt.plot(list(range(1,129)),PE[3,:])"
   ],
   "metadata": {
    "collapsed": false,
    "pycharm": {
     "name": "#%%\n"
    }
   }
  },
  {
   "cell_type": "code",
   "execution_count": 26,
   "outputs": [
    {
     "data": {
      "text/plain": "[<matplotlib.lines.Line2D at 0x1bc3609aac0>]"
     },
     "execution_count": 26,
     "metadata": {},
     "output_type": "execute_result"
    },
    {
     "data": {
      "text/plain": "<Figure size 432x288 with 1 Axes>",
      "image/png": "[encoded data removed]"
     },
     "metadata": {
      "needs_background": "light"
     },
     "output_type": "display_data"
    }
   ],
   "source": [
    "plt.plot(list(range(1,30)),PE[:,0])\n",
    "plt.plot(list(range(1,30)),PE[:,1])\n",
    "plt.plot(list(range(1,30)),PE[:,2])"
   ],
   "metadata": {
    "collapsed": false,
    "pycharm": {
     "name": "#%%\n"
    }
   }
  },
  {
   "cell_type": "code",
   "execution_count": 35,
   "outputs": [
    {
     "name": "stdout",
     "output_type": "stream",
     "text": [
      "torch.Size([29, 1])\n",
      "torch.Size([29, 128])\n"
     ]
    }
   ],
   "source": [
    "# 3. period\n",
    "d_model = 128\n",
    "period = 7\n",
    "PE = torch.zeros((29, d_model))  # [29, 128]\n",
    "pos = torch.arange(29).unsqueeze(1) # [29, 1]\n",
    "PE = torch.sin(pos * 2 * np.pi / period)\n",
    "print(PE.shape)\n",
    "PE = PE.repeat((1, d_model))\n",
    "print(PE.shape)"
   ],
   "metadata": {
    "collapsed": false,
    "pycharm": {
     "name": "#%%\n"
    }
   }
  },
  {
   "cell_type": "code",
   "execution_count": 37,
   "outputs": [
    {
     "data": {
      "text/plain": "[<matplotlib.lines.Line2D at 0x1bc37353850>]"
     },
     "execution_count": 37,
     "metadata": {},
     "output_type": "execute_result"
    },
    {
     "data": {
      "text/plain": "<Figure size 432x288 with 1 Axes>",
      "image/png": "[encoded data removed]"
     },
     "metadata": {
      "needs_background": "light"
     },
     "output_type": "display_data"
    }
   ],
   "source": [
    "plt.plot(list(range(1,129)),PE[1,:])\n",
    "plt.plot(list(range(1,129)),PE[2,:])\n",
    "plt.plot(list(range(1,129)),PE[3,:])"
   ],
   "metadata": {
    "collapsed": false,
    "pycharm": {
     "name": "#%%\n"
    }
   }
  },
  {
   "cell_type": "code",
   "execution_count": 40,
   "outputs": [
    {
     "data": {
      "text/plain": "[<matplotlib.lines.Line2D at 0x1bc3028b220>]"
     },
     "execution_count": 40,
     "metadata": {},
     "output_type": "execute_result"
    },
    {
     "data": {
      "text/plain": "<Figure size 432x288 with 1 Axes>",
      "image/png": "[encoded data removed]"
     },
     "metadata": {
      "needs_background": "light"
     },
     "output_type": "display_data"
    }
   ],
   "source": [
    "plt.plot(list(range(1,30)),PE[:,0])\n",
    "plt.plot(list(range(1,30)),PE[:,1])\n",
    "plt.plot(list(range(1,30)),PE[:,2])"
   ],
   "metadata": {
    "collapsed": false,
    "pycharm": {
     "name": "#%%\n"
    }
   }
  },
  {
   "cell_type": "code",
   "execution_count": 71,
   "outputs": [],
   "source": [
    "#### convolutional attention\n",
    "class CausalConv1d(torch.nn.Conv1d):\n",
    "    def __init__(self,\n",
    "                 in_channels,\n",
    "                 out_channels,\n",
    "                 kernel_size,\n",
    "                 stride=1,\n",
    "                 dilation=1,\n",
    "                 groups=1,\n",
    "                 bias=True):\n",
    "\n",
    "        super(CausalConv1d, self).__init__(\n",
    "            in_channels,\n",
    "            out_channels,\n",
    "            kernel_size=kernel_size,\n",
    "            stride=stride,\n",
    "            padding=0,\n",
    "            dilation=dilation,\n",
    "            groups=groups,\n",
    "            bias=bias)\n",
    "\n",
    "        self.__padding = (kernel_size - 1) * dilation\n",
    "\n",
    "    def forward(self, input):\n",
    "        return super(CausalConv1d, self).forward(F.pad(input, (self.__padding, 0)))"
   ],
   "metadata": {
    "collapsed": false,
    "pycharm": {
     "name": "#%%\n"
    }
   }
  },
  {
   "cell_type": "code",
   "execution_count": 72,
   "outputs": [
    {
     "name": "stdout",
     "output_type": "stream",
     "text": [
      "torch.Size([1, 1, 20])\n",
      "tensor([[[-1.6832, -4.9013, -6.0907, -3.7566, -2.4711, -2.5708, -3.8122,\n",
      "          -4.8550, -5.6173, -3.7324, -4.0656, -5.2786, -6.4146, -4.5795,\n",
      "          -3.3794, -3.6677, -4.7959, -4.9867, -4.7589, -5.1568]]],\n",
      "       grad_fn=<ConvolutionBackward0>)\n"
     ]
    }
   ],
   "source": [
    "kernel_size = 3\n",
    "in_channels=1\n",
    "out_channels=1\n",
    "dilation = 1\n",
    "x = torch.randint(1,10,(1,20)).type(torch.float)\n",
    "convlayer = CausalConv1d(in_channels,out_channels,kernel_size,dilation=dilation)\n",
    "print(convlayer(x.unsqueeze(0)).shape)\n",
    "print(convlayer(x.unsqueeze(0)))"
   ],
   "metadata": {
    "collapsed": false,
    "pycharm": {
     "name": "#%%\n"
    }
   }
  },
  {
   "cell_type": "code",
   "execution_count": 64,
   "outputs": [
    {
     "data": {
      "text/plain": "tensor(0.9517, grad_fn=<AddBackward0>)"
     },
     "execution_count": 64,
     "metadata": {},
     "output_type": "execute_result"
    }
   ],
   "source": [
    "__padding = (kernel_size - 1) * dilation\n",
    "x_pad = F.pad(x, (__padding, 0))\n",
    "torch.dot(convlayer.weight[0][0],x_pad[0][0:3])+convlayer.bias[0]"
   ],
   "metadata": {
    "collapsed": false,
    "pycharm": {
     "name": "#%%\n"
    }
   }
  },
  {
   "cell_type": "code",
   "execution_count": 68,
   "outputs": [
    {
     "name": "stderr",
     "output_type": "stream",
     "text": [
      "F:\\Anaconda\\envs\\pytorch\\lib\\site-packages\\torch\\nn\\functional.py:1944: UserWarning: nn.functional.sigmoid is deprecated. Use torch.sigmoid instead.\n",
      "  warnings.warn(\"nn.functional.sigmoid is deprecated. Use torch.sigmoid instead.\")\n"
     ]
    },
    {
     "data": {
      "text/plain": "torch.Size([1, 256, 20])"
     },
     "execution_count": 68,
     "metadata": {},
     "output_type": "execute_result"
    }
   ],
   "source": [
    "class context_embedding(torch.nn.Module):\n",
    "    def __init__(self, in_channels=1,embedding_size=256,k=5):\n",
    "        super(context_embedding,self).__init__()\n",
    "        self.causal_convolution = CausalConv1d(in_channels,embedding_size,kernel_size=k)\n",
    "\n",
    "    def forward(self, x):\n",
    "        x = self.causal_convolution(x)\n",
    "        return F.sigmoid(x)\n",
    "embedding = context_embedding(1,256,5)\n",
    "embedding(x.unsqueeze(0)).shape"
   ],
   "metadata": {
    "collapsed": false,
    "pycharm": {
     "name": "#%%\n"
    }
   }
  },
  {
   "cell_type": "code",
   "execution_count": null,
   "outputs": [],
   "source": [],
   "metadata": {
    "collapsed": false,
    "pycharm": {
     "name": "#%%\n"
    }
   }
  }
 ],
 "metadata": {
  "kernelspec": {
   "display_name": "Python 3",
   "language": "python",
   "name": "python3"
  },
  "language_info": {
   "codemirror_mode": {
    "name": "ipython",
    "version": 2
   },
   "file_extension": ".py",
   "mimetype": "text/x-python",
   "name": "python",
   "nbconvert_exporter": "python",
   "pygments_lexer": "ipython2",
   "version": "2.7.6"
  }
 },
 "nbformat": 4,
 "nbformat_minor": 0
}